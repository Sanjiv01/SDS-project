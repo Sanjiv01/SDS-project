{
 "cells": [
  {
   "cell_type": "markdown",
   "metadata": {},
   "source": [
    "# Weather Dataset - Temperature Prediction"
   ]
  },
  {
   "cell_type": "code",
   "execution_count": 1,
   "metadata": {},
   "outputs": [],
   "source": [
    "# Importing the necessary modules\n",
    "\n",
    "import pandas as pd\n",
    "import numpy as np\n",
    "import matplotlib.pyplot as plt\n",
    "from sklearn.impute import SimpleImputer\n",
    "from sklearn import preprocessing\n",
    "from statsmodels.graphics.gofplots import qqplot\n",
    "import statistics \n",
    "import scipy\n",
    "import math\n",
    "import seaborn as sns\n",
    "%matplotlib inline"
   ]
  },
  {
   "cell_type": "code",
   "execution_count": 2,
   "metadata": {},
   "outputs": [
    {
     "data": {
      "text/html": [
       "<div>\n",
       "<style scoped>\n",
       "    .dataframe tbody tr th:only-of-type {\n",
       "        vertical-align: middle;\n",
       "    }\n",
       "\n",
       "    .dataframe tbody tr th {\n",
       "        vertical-align: top;\n",
       "    }\n",
       "\n",
       "    .dataframe thead th {\n",
       "        text-align: right;\n",
       "    }\n",
       "</style>\n",
       "<table border=\"1\" class=\"dataframe\">\n",
       "  <thead>\n",
       "    <tr style=\"text-align: right;\">\n",
       "      <th></th>\n",
       "      <th>Formatted Date</th>\n",
       "      <th>Summary</th>\n",
       "      <th>Precip Type</th>\n",
       "      <th>Temperature (C)</th>\n",
       "      <th>Apparent Temperature ©</th>\n",
       "      <th>Humidity</th>\n",
       "      <th>Wind Speed (km/h)</th>\n",
       "      <th>Wind Bearing (degrees)</th>\n",
       "      <th>Visibility (km)</th>\n",
       "      <th>Loud Cover</th>\n",
       "      <th>Pressure (millibars)</th>\n",
       "      <th>Daily Summary</th>\n",
       "    </tr>\n",
       "  </thead>\n",
       "  <tbody>\n",
       "    <tr>\n",
       "      <td>0</td>\n",
       "      <td>2012-04-01 00:00:00.000 +0200</td>\n",
       "      <td>Breezy and Overcast</td>\n",
       "      <td>rain</td>\n",
       "      <td>9.444444</td>\n",
       "      <td>5.511111111</td>\n",
       "      <td>0.52</td>\n",
       "      <td>35.42</td>\n",
       "      <td>340</td>\n",
       "      <td>16.1</td>\n",
       "      <td>0</td>\n",
       "      <td>1002.8</td>\n",
       "      <td>Partly cloudy until evening and breezy in the ...</td>\n",
       "    </tr>\n",
       "    <tr>\n",
       "      <td>1</td>\n",
       "      <td>2012-04-01 01:00:00.000 +0200</td>\n",
       "      <td>Mostly Cloudy</td>\n",
       "      <td>rain</td>\n",
       "      <td>8.333333</td>\n",
       "      <td>5.194444444</td>\n",
       "      <td>0.45</td>\n",
       "      <td>20.93</td>\n",
       "      <td>320</td>\n",
       "      <td>16.1</td>\n",
       "      <td>0</td>\n",
       "      <td>1004.1</td>\n",
       "      <td>Partly cloudy until evening and breezy in the ...</td>\n",
       "    </tr>\n",
       "    <tr>\n",
       "      <td>2</td>\n",
       "      <td>2012-04-01 02:00:00.000 +0200</td>\n",
       "      <td>Breezy and Mostly Cloudy</td>\n",
       "      <td>rain</td>\n",
       "      <td>6.855556</td>\n",
       "      <td>2.244444444</td>\n",
       "      <td>0.54</td>\n",
       "      <td>33.2304</td>\n",
       "      <td>322</td>\n",
       "      <td>15.1501</td>\n",
       "      <td>0</td>\n",
       "      <td>1004.97</td>\n",
       "      <td>Partly cloudy until evening and breezy in the ...</td>\n",
       "    </tr>\n",
       "    <tr>\n",
       "      <td>3</td>\n",
       "      <td>2012-04-01 03:00:00.000 +0200</td>\n",
       "      <td>Mostly Cloudy</td>\n",
       "      <td>rain</td>\n",
       "      <td>6.111111</td>\n",
       "      <td>1.888888889</td>\n",
       "      <td>0.57</td>\n",
       "      <td>25.76</td>\n",
       "      <td>310</td>\n",
       "      <td>16.1</td>\n",
       "      <td>0</td>\n",
       "      <td>1005.9</td>\n",
       "      <td>Partly cloudy until evening and breezy in the ...</td>\n",
       "    </tr>\n",
       "    <tr>\n",
       "      <td>4</td>\n",
       "      <td>2012-04-01 04:00:00.000 +0200</td>\n",
       "      <td>Breezy and Overcast</td>\n",
       "      <td>rain</td>\n",
       "      <td>6.111111</td>\n",
       "      <td>1.605555556</td>\n",
       "      <td>0.51</td>\n",
       "      <td>28.98</td>\n",
       "      <td>310</td>\n",
       "      <td>16.1</td>\n",
       "      <td>0</td>\n",
       "      <td>1006</td>\n",
       "      <td>Partly cloudy until evening and breezy in the ...</td>\n",
       "    </tr>\n",
       "  </tbody>\n",
       "</table>\n",
       "</div>"
      ],
      "text/plain": [
       "                  Formatted Date                   Summary Precip Type  \\\n",
       "0  2012-04-01 00:00:00.000 +0200       Breezy and Overcast        rain   \n",
       "1  2012-04-01 01:00:00.000 +0200             Mostly Cloudy        rain   \n",
       "2  2012-04-01 02:00:00.000 +0200  Breezy and Mostly Cloudy        rain   \n",
       "3  2012-04-01 03:00:00.000 +0200             Mostly Cloudy        rain   \n",
       "4  2012-04-01 04:00:00.000 +0200       Breezy and Overcast        rain   \n",
       "\n",
       "   Temperature (C) Apparent Temperature © Humidity Wind Speed (km/h)  \\\n",
       "0         9.444444            5.511111111     0.52             35.42   \n",
       "1         8.333333            5.194444444     0.45             20.93   \n",
       "2         6.855556            2.244444444     0.54           33.2304   \n",
       "3         6.111111            1.888888889     0.57             25.76   \n",
       "4         6.111111            1.605555556     0.51             28.98   \n",
       "\n",
       "  Wind Bearing (degrees) Visibility (km)  Loud Cover Pressure (millibars)  \\\n",
       "0                    340            16.1           0               1002.8   \n",
       "1                    320            16.1           0               1004.1   \n",
       "2                    322         15.1501           0              1004.97   \n",
       "3                    310            16.1           0               1005.9   \n",
       "4                    310            16.1           0                 1006   \n",
       "\n",
       "                                       Daily Summary  \n",
       "0  Partly cloudy until evening and breezy in the ...  \n",
       "1  Partly cloudy until evening and breezy in the ...  \n",
       "2  Partly cloudy until evening and breezy in the ...  \n",
       "3  Partly cloudy until evening and breezy in the ...  \n",
       "4  Partly cloudy until evening and breezy in the ...  "
      ]
     },
     "execution_count": 2,
     "metadata": {},
     "output_type": "execute_result"
    }
   ],
   "source": [
    "# Importing dataset into data frame variable\n",
    "df = pd.read_csv(\"WeatherHistoryDataset.csv\")\n",
    "\n",
    "#printing the first 5 rows of the dataset\n",
    "df.head()"
   ]
  },
  {
   "cell_type": "code",
   "execution_count": 3,
   "metadata": {
    "scrolled": true
   },
   "outputs": [
    {
     "data": {
      "text/html": [
       "<div>\n",
       "<style scoped>\n",
       "    .dataframe tbody tr th:only-of-type {\n",
       "        vertical-align: middle;\n",
       "    }\n",
       "\n",
       "    .dataframe tbody tr th {\n",
       "        vertical-align: top;\n",
       "    }\n",
       "\n",
       "    .dataframe thead th {\n",
       "        text-align: right;\n",
       "    }\n",
       "</style>\n",
       "<table border=\"1\" class=\"dataframe\">\n",
       "  <thead>\n",
       "    <tr style=\"text-align: right;\">\n",
       "      <th></th>\n",
       "      <th>Temperature (C)</th>\n",
       "      <th>Loud Cover</th>\n",
       "    </tr>\n",
       "  </thead>\n",
       "  <tbody>\n",
       "    <tr>\n",
       "      <td>count</td>\n",
       "      <td>35077.000000</td>\n",
       "      <td>35077.0</td>\n",
       "    </tr>\n",
       "    <tr>\n",
       "      <td>mean</td>\n",
       "      <td>12.190872</td>\n",
       "      <td>0.0</td>\n",
       "    </tr>\n",
       "    <tr>\n",
       "      <td>std</td>\n",
       "      <td>9.549309</td>\n",
       "      <td>0.0</td>\n",
       "    </tr>\n",
       "    <tr>\n",
       "      <td>min</td>\n",
       "      <td>-21.822222</td>\n",
       "      <td>0.0</td>\n",
       "    </tr>\n",
       "    <tr>\n",
       "      <td>25%</td>\n",
       "      <td>4.911111</td>\n",
       "      <td>0.0</td>\n",
       "    </tr>\n",
       "    <tr>\n",
       "      <td>50%</td>\n",
       "      <td>12.150000</td>\n",
       "      <td>0.0</td>\n",
       "    </tr>\n",
       "    <tr>\n",
       "      <td>75%</td>\n",
       "      <td>18.894444</td>\n",
       "      <td>0.0</td>\n",
       "    </tr>\n",
       "    <tr>\n",
       "      <td>max</td>\n",
       "      <td>38.861111</td>\n",
       "      <td>0.0</td>\n",
       "    </tr>\n",
       "  </tbody>\n",
       "</table>\n",
       "</div>"
      ],
      "text/plain": [
       "       Temperature (C)  Loud Cover\n",
       "count     35077.000000     35077.0\n",
       "mean         12.190872         0.0\n",
       "std           9.549309         0.0\n",
       "min         -21.822222         0.0\n",
       "25%           4.911111         0.0\n",
       "50%          12.150000         0.0\n",
       "75%          18.894444         0.0\n",
       "max          38.861111         0.0"
      ]
     },
     "execution_count": 3,
     "metadata": {},
     "output_type": "execute_result"
    }
   ],
   "source": [
    "# Finding out the general information about the dataset\n",
    "df.describe()"
   ]
  },
  {
   "cell_type": "code",
   "execution_count": 4,
   "metadata": {},
   "outputs": [],
   "source": [
    "# Since the NaN values are represented as \" \" it has to be converted to NaN value so that we can clean the data efficiently\n",
    "df = df.replace(\" \", np.nan)"
   ]
  },
  {
   "cell_type": "code",
   "execution_count": 5,
   "metadata": {},
   "outputs": [
    {
     "data": {
      "text/plain": [
       "Formatted Date              0\n",
       "Summary                   203\n",
       "Precip Type               144\n",
       "Temperature (C)             0\n",
       "Apparent Temperature ©    199\n",
       "Humidity                  144\n",
       "Wind Speed (km/h)         260\n",
       "Wind Bearing (degrees)    178\n",
       "Visibility (km)           253\n",
       "Loud Cover                  0\n",
       "Pressure (millibars)      159\n",
       "Daily Summary               0\n",
       "dtype: int64"
      ]
     },
     "execution_count": 5,
     "metadata": {},
     "output_type": "execute_result"
    }
   ],
   "source": [
    "# Counting the number of NaN values through each column\n",
    "df.isnull().sum()"
   ]
  },
  {
   "cell_type": "markdown",
   "metadata": {},
   "source": [
    "# Exploratory Data Analysis:"
   ]
  },
  {
   "cell_type": "markdown",
   "metadata": {},
   "source": [
    "### _Description_: \n",
    "\n",
    "- **Formatted Date**: Date in yyyy-mm-dd hr(in 24 hr format) format.\n",
    "- **Summary**: Summary of weather.\n",
    "- **Precip Type**: Type of precipitation.\n",
    "- **Temperature**: Temperature in degrees Centigrade.\n",
    "- **Apparent Temperature Â©**: Apparent temperature in degrees Centigrade.\n",
    "- **humidity**: Humidity at recorded time.\n",
    "- **Wind Speed**: Wind speed in km/hrs.\n",
    "- **Wind Bearing**: Wind Bearing in degrees.\n",
    "- **Visibility**: Visibility in km.\n",
    "- **Loud Cover**: No useful information that can be made out.\n",
    "- **Pressure**: Pressure in millibars.\n",
    "- **Daily Summary**: Present day's summary. "
   ]
  },
  {
   "cell_type": "code",
   "execution_count": 6,
   "metadata": {},
   "outputs": [],
   "source": [
    "# Removing rows where the Precip type and Summary is NaN\n",
    "\n",
    "df = df[df[\"Precip Type\"].notna()]\n",
    "df = df[df[\"Summary\"].notna()]"
   ]
  },
  {
   "cell_type": "code",
   "execution_count": 7,
   "metadata": {},
   "outputs": [],
   "source": [
    "# Dropping the Loud Cover column as it does not contain useful information\n",
    "\n",
    "df.drop('Loud Cover', inplace=True, axis=1)"
   ]
  },
  {
   "cell_type": "code",
   "execution_count": 8,
   "metadata": {},
   "outputs": [],
   "source": [
    "# Preparing the Label Encoder\n",
    "\n",
    "le = preprocessing.LabelEncoder()\n",
    "\n",
    "# Encoding the values of Precip Type and Summary to unique values so that we can use them for analysis\n",
    "\n",
    "df[\"Precip Type\"] = le.fit_transform(df[\"Precip Type\"])\n",
    "df[\"Summary\"] = le.fit_transform(df[\"Summary\"])"
   ]
  },
  {
   "cell_type": "code",
   "execution_count": 9,
   "metadata": {},
   "outputs": [],
   "source": [
    "# Imputing the NaN values with the mean strategy \n",
    "\n",
    "imputer = SimpleImputer(missing_values=np.nan, strategy='mean')\n",
    "imputer = imputer.fit(df.iloc[:,4:10].values)\n",
    "df.iloc[:,4:10] = imputer.transform(df.iloc[:,4:10].values)"
   ]
  },
  {
   "cell_type": "code",
   "execution_count": 10,
   "metadata": {},
   "outputs": [],
   "source": [
    "# Removing the duplicate rows\n",
    "\n",
    "df.drop_duplicates(subset =\"Formatted Date\", keep = False, inplace = True)"
   ]
  },
  {
   "cell_type": "markdown",
   "metadata": {},
   "source": [
    "## Removal of outliers"
   ]
  },
  {
   "cell_type": "code",
   "execution_count": 11,
   "metadata": {},
   "outputs": [
    {
     "data": {
      "text/plain": [
       "<matplotlib.axes._subplots.AxesSubplot at 0x16944482388>"
      ]
     },
     "execution_count": 11,
     "metadata": {},
     "output_type": "execute_result"
    },
    {
     "data": {
      "image/png": "[encoded data removed]",
      "text/plain": [
       "<Figure size 432x288 with 1 Axes>"
      ]
     },
     "metadata": {
      "needs_background": "light"
     },
     "output_type": "display_data"
    }
   ],
   "source": [
    "import seaborn as sns\n",
    "\n",
    "# Visualizing the data in boxplots to get information on the outliers\n",
    "sns.boxplot(x=df['Temperature (C)'])    "
   ]
  },
  {
   "cell_type": "code",
   "execution_count": 12,
   "metadata": {},
   "outputs": [],
   "source": [
    "# Removal of outliers \n",
    "Q1 = df['Temperature (C)'].quantile(0.25)   #first quartile\n",
    "Q3 = df['Temperature (C)'].quantile(0.75)   #third quartile\n",
    "IQR = Q3 - Q1   #IQR-> Interquartile Range\n",
    "\n",
    "filter = (df['Temperature (C)'] >= Q1 - 1.5 * IQR) & (df['Temperature (C)'] <= Q3 + 1.5 *IQR)\n",
    "df = df.loc[filter]  "
   ]
  },
  {
   "cell_type": "code",
   "execution_count": 13,
   "metadata": {},
   "outputs": [
    {
     "data": {
      "text/plain": [
       "<matplotlib.axes._subplots.AxesSubplot at 0x16944990c88>"
      ]
     },
     "execution_count": 13,
     "metadata": {},
     "output_type": "execute_result"
    },
    {
     "data": {
      "image/png": "[encoded data removed]",
      "text/plain": [
       "<Figure size 432x288 with 1 Axes>"
      ]
     },
     "metadata": {
      "needs_background": "light"
     },
     "output_type": "display_data"
    }
   ],
   "source": [
    "sns.boxplot(x=df['Temperature (C)'])    "
   ]
  },
  {
   "cell_type": "code",
   "execution_count": 14,
   "metadata": {},
   "outputs": [
    {
     "data": {
      "text/plain": [
       "<matplotlib.axes._subplots.AxesSubplot at 0x169445beb88>"
      ]
     },
     "execution_count": 14,
     "metadata": {},
     "output_type": "execute_result"
    },
    {
     "data": {
      "image/png": "[encoded data removed]",
      "text/plain": [
       "<Figure size 432x288 with 1 Axes>"
      ]
     },
     "metadata": {
      "needs_background": "light"
     },
     "output_type": "display_data"
    }
   ],
   "source": [
    "sns.boxplot(x=df['Apparent Temperature ©'])"
   ]
  },
  {
   "cell_type": "code",
   "execution_count": 15,
   "metadata": {},
   "outputs": [],
   "source": [
    "Q1 = df['Apparent Temperature ©'].quantile(0.25)\n",
    "Q3 = df['Apparent Temperature ©'].quantile(0.75)\n",
    "IQR = Q3 - Q1     \n",
    "\n",
    "filter = (df['Apparent Temperature ©'] >= Q1 - 1.5 * IQR) & (df['Apparent Temperature ©'] <= Q3 + 1.5 *IQR)\n",
    "df = df.loc[filter]  "
   ]
  },
  {
   "cell_type": "code",
   "execution_count": 16,
   "metadata": {},
   "outputs": [
    {
     "data": {
      "text/plain": [
       "<matplotlib.axes._subplots.AxesSubplot at 0x16944600a88>"
      ]
     },
     "execution_count": 16,
     "metadata": {},
     "output_type": "execute_result"
    },
    {
     "data": {
      "image/png": "[encoded data removed]",
      "text/plain": [
       "<Figure size 432x288 with 1 Axes>"
      ]
     },
     "metadata": {
      "needs_background": "light"
     },
     "output_type": "display_data"
    }
   ],
   "source": [
    "sns.boxplot(x=df['Apparent Temperature ©'])"
   ]
  },
  {
   "cell_type": "code",
   "execution_count": 17,
   "metadata": {},
   "outputs": [
    {
     "data": {
      "text/plain": [
       "<matplotlib.axes._subplots.AxesSubplot at 0x1694469d588>"
      ]
     },
     "execution_count": 17,
     "metadata": {},
     "output_type": "execute_result"
    },
    {
     "data": {
      "image/png": "[encoded data removed]",
      "text/plain": [
       "<Figure size 432x288 with 1 Axes>"
      ]
     },
     "metadata": {
      "needs_background": "light"
     },
     "output_type": "display_data"
    }
   ],
   "source": [
    "sns.boxplot(x=df['Humidity'])"
   ]
  },
  {
   "cell_type": "code",
   "execution_count": 18,
   "metadata": {},
   "outputs": [],
   "source": [
    "Q1 = df['Humidity'].quantile(0.25)\n",
    "Q3 = df['Humidity'].quantile(0.75)\n",
    "IQR = Q3 - Q1     \n",
    "\n",
    "filter = (df['Humidity'] >= Q1 - 1.5 * IQR) & (df['Humidity'] <= Q3 + 1.5 *IQR)\n",
    "df = df.loc[filter]  "
   ]
  },
  {
   "cell_type": "code",
   "execution_count": 19,
   "metadata": {},
   "outputs": [
    {
     "data": {
      "text/plain": [
       "<matplotlib.axes._subplots.AxesSubplot at 0x16944711988>"
      ]
     },
     "execution_count": 19,
     "metadata": {},
     "output_type": "execute_result"
    },
    {
     "data": {
      "image/png": "[encoded data removed]",
      "text/plain": [
       "<Figure size 432x288 with 1 Axes>"
      ]
     },
     "metadata": {
      "needs_background": "light"
     },
     "output_type": "display_data"
    }
   ],
   "source": [
    "sns.boxplot(x=df['Humidity'])"
   ]
  },
  {
   "cell_type": "code",
   "execution_count": 20,
   "metadata": {},
   "outputs": [
    {
     "data": {
      "text/plain": [
       "<matplotlib.axes._subplots.AxesSubplot at 0x169449df788>"
      ]
     },
     "execution_count": 20,
     "metadata": {},
     "output_type": "execute_result"
    },
    {
     "data": {
      "image/png": "[encoded data removed]",
      "text/plain": [
       "<Figure size 432x288 with 1 Axes>"
      ]
     },
     "metadata": {
      "needs_background": "light"
     },
     "output_type": "display_data"
    }
   ],
   "source": [
    "sns.boxplot(x=df['Wind Speed (km/h)'])"
   ]
  },
  {
   "cell_type": "code",
   "execution_count": 21,
   "metadata": {},
   "outputs": [],
   "source": [
    "Q1 = df['Wind Speed (km/h)'].quantile(0.25)\n",
    "Q3 = df['Wind Speed (km/h)'].quantile(0.75)\n",
    "IQR = Q3 - Q1     \n",
    "\n",
    "filter = (df['Wind Speed (km/h)'] >= Q1 - 1.5 * IQR) & (df['Wind Speed (km/h)'] <= Q3 + 1.5 *IQR)\n",
    "df = df.loc[filter]  "
   ]
  },
  {
   "cell_type": "code",
   "execution_count": 22,
   "metadata": {},
   "outputs": [
    {
     "data": {
      "text/plain": [
       "<matplotlib.axes._subplots.AxesSubplot at 0x16944a4cec8>"
      ]
     },
     "execution_count": 22,
     "metadata": {},
     "output_type": "execute_result"
    },
    {
     "data": {
      "image/png": "[encoded data removed]",
      "text/plain": [
       "<Figure size 432x288 with 1 Axes>"
      ]
     },
     "metadata": {
      "needs_background": "light"
     },
     "output_type": "display_data"
    }
   ],
   "source": [
    "sns.boxplot(x=df['Wind Speed (km/h)'])"
   ]
  },
  {
   "cell_type": "code",
   "execution_count": 23,
   "metadata": {},
   "outputs": [
    {
     "data": {
      "text/plain": [
       "<matplotlib.axes._subplots.AxesSubplot at 0x16944a3e6c8>"
      ]
     },
     "execution_count": 23,
     "metadata": {},
     "output_type": "execute_result"
    },
    {
     "data": {
      "image/png": "[encoded data removed]",
      "text/plain": [
       "<Figure size 432x288 with 1 Axes>"
      ]
     },
     "metadata": {
      "needs_background": "light"
     },
     "output_type": "display_data"
    }
   ],
   "source": [
    "sns.boxplot(x=df['Wind Bearing (degrees)'])"
   ]
  },
  {
   "cell_type": "code",
   "execution_count": 24,
   "metadata": {},
   "outputs": [],
   "source": [
    "Q1 = df['Wind Bearing (degrees)'].quantile(0.25)\n",
    "Q3 = df['Wind Bearing (degrees)'].quantile(0.75)\n",
    "IQR = Q3 - Q1     \n",
    "\n",
    "filter = (df['Wind Bearing (degrees)'] >= Q1 - 1.5 * IQR) & (df['Wind Bearing (degrees)'] <= Q3 + 1.5 *IQR)\n",
    "df = df.loc[filter]  "
   ]
  },
  {
   "cell_type": "code",
   "execution_count": 25,
   "metadata": {},
   "outputs": [
    {
     "data": {
      "text/plain": [
       "<matplotlib.axes._subplots.AxesSubplot at 0x16944cfe048>"
      ]
     },
     "execution_count": 25,
     "metadata": {},
     "output_type": "execute_result"
    },
    {
     "data": {
      "image/png": "[encoded data removed]",
      "text/plain": [
       "<Figure size 432x288 with 1 Axes>"
      ]
     },
     "metadata": {
      "needs_background": "light"
     },
     "output_type": "display_data"
    }
   ],
   "source": [
    "sns.boxplot(x=df['Wind Bearing (degrees)'])"
   ]
  },
  {
   "cell_type": "code",
   "execution_count": 26,
   "metadata": {},
   "outputs": [
    {
     "data": {
      "text/plain": [
       "<matplotlib.axes._subplots.AxesSubplot at 0x16944ab8048>"
      ]
     },
     "execution_count": 26,
     "metadata": {},
     "output_type": "execute_result"
    },
    {
     "data": {
      "image/png": "[encoded data removed]",
      "text/plain": [
       "<Figure size 432x288 with 1 Axes>"
      ]
     },
     "metadata": {
      "needs_background": "light"
     },
     "output_type": "display_data"
    }
   ],
   "source": [
    "sns.boxplot(x=df['Visibility (km)'])"
   ]
  },
  {
   "cell_type": "code",
   "execution_count": 27,
   "metadata": {},
   "outputs": [],
   "source": [
    "Q1 = df['Visibility (km)'].quantile(0.25)\n",
    "Q3 = df['Visibility (km)'].quantile(0.75)\n",
    "IQR = Q3 - Q1     \n",
    "\n",
    "filter = (df['Visibility (km)'] >= Q1 - 1.5 * IQR) & (df['Visibility (km)'] <= Q3 + 1.5 *IQR)\n",
    "df = df.loc[filter]  "
   ]
  },
  {
   "cell_type": "code",
   "execution_count": 28,
   "metadata": {},
   "outputs": [
    {
     "data": {
      "text/plain": [
       "<matplotlib.axes._subplots.AxesSubplot at 0x16944b34bc8>"
      ]
     },
     "execution_count": 28,
     "metadata": {},
     "output_type": "execute_result"
    },
    {
     "data": {
      "image/png": "[encoded data removed]",
      "text/plain": [
       "<Figure size 432x288 with 1 Axes>"
      ]
     },
     "metadata": {
      "needs_background": "light"
     },
     "output_type": "display_data"
    }
   ],
   "source": [
    "sns.boxplot(x=df['Visibility (km)'])"
   ]
  },
  {
   "cell_type": "code",
   "execution_count": 29,
   "metadata": {},
   "outputs": [],
   "source": [
    "df['Pressure (millibars)']=df['Pressure (millibars)'].astype(float)   #converting to float type"
   ]
  },
  {
   "cell_type": "code",
   "execution_count": 30,
   "metadata": {},
   "outputs": [
    {
     "data": {
      "text/plain": [
       "<matplotlib.axes._subplots.AxesSubplot at 0x16944b8a888>"
      ]
     },
     "execution_count": 30,
     "metadata": {},
     "output_type": "execute_result"
    },
    {
     "data": {
      "image/png": "[encoded data removed]",
      "text/plain": [
       "<Figure size 432x288 with 1 Axes>"
      ]
     },
     "metadata": {
      "needs_background": "light"
     },
     "output_type": "display_data"
    }
   ],
   "source": [
    "sns.boxplot(x=df['Pressure (millibars)'])"
   ]
  },
  {
   "cell_type": "code",
   "execution_count": 31,
   "metadata": {},
   "outputs": [],
   "source": [
    "Q1 = df['Pressure (millibars)'].quantile(0.25)\n",
    "Q3 = df['Pressure (millibars)'].quantile(0.75)\n",
    "IQR = Q3 - Q1     \n",
    "\n",
    "filter = (df['Pressure (millibars)'] >= Q1 - 1.5 * IQR) & (df['Pressure (millibars)'] <= Q3 + 1.5 *IQR)\n",
    "df = df.loc[filter]  \n"
   ]
  },
  {
   "cell_type": "code",
   "execution_count": 32,
   "metadata": {},
   "outputs": [
    {
     "data": {
      "text/plain": [
       "<matplotlib.axes._subplots.AxesSubplot at 0x16944c0a408>"
      ]
     },
     "execution_count": 32,
     "metadata": {},
     "output_type": "execute_result"
    },
    {
     "data": {
      "image/png": "[encoded data removed]",
      "text/plain": [
       "<Figure size 432x288 with 1 Axes>"
      ]
     },
     "metadata": {
      "needs_background": "light"
     },
     "output_type": "display_data"
    }
   ],
   "source": [
    "sns.boxplot(x=df['Pressure (millibars)'])"
   ]
  },
  {
   "cell_type": "code",
   "execution_count": 33,
   "metadata": {},
   "outputs": [
    {
     "data": {
      "text/html": [
       "<div>\n",
       "<style scoped>\n",
       "    .dataframe tbody tr th:only-of-type {\n",
       "        vertical-align: middle;\n",
       "    }\n",
       "\n",
       "    .dataframe tbody tr th {\n",
       "        vertical-align: top;\n",
       "    }\n",
       "\n",
       "    .dataframe thead th {\n",
       "        text-align: right;\n",
       "    }\n",
       "</style>\n",
       "<table border=\"1\" class=\"dataframe\">\n",
       "  <thead>\n",
       "    <tr style=\"text-align: right;\">\n",
       "      <th></th>\n",
       "      <th>Formatted Date</th>\n",
       "      <th>Summary</th>\n",
       "      <th>Precip Type</th>\n",
       "      <th>Temperature (C)</th>\n",
       "      <th>Apparent Temperature ©</th>\n",
       "      <th>Humidity</th>\n",
       "      <th>Wind Speed (km/h)</th>\n",
       "      <th>Wind Bearing (degrees)</th>\n",
       "      <th>Visibility (km)</th>\n",
       "      <th>Pressure (millibars)</th>\n",
       "      <th>Daily Summary</th>\n",
       "    </tr>\n",
       "  </thead>\n",
       "  <tbody>\n",
       "    <tr>\n",
       "      <td>1</td>\n",
       "      <td>2012-04-01 01:00:00.000 +0200</td>\n",
       "      <td>16</td>\n",
       "      <td>0</td>\n",
       "      <td>8.333333</td>\n",
       "      <td>5.194444</td>\n",
       "      <td>0.450000</td>\n",
       "      <td>20.9300</td>\n",
       "      <td>320.0</td>\n",
       "      <td>16.1000</td>\n",
       "      <td>1004.10</td>\n",
       "      <td>Partly cloudy until evening and breezy in the ...</td>\n",
       "    </tr>\n",
       "    <tr>\n",
       "      <td>3</td>\n",
       "      <td>2012-04-01 03:00:00.000 +0200</td>\n",
       "      <td>16</td>\n",
       "      <td>0</td>\n",
       "      <td>6.111111</td>\n",
       "      <td>1.888889</td>\n",
       "      <td>0.570000</td>\n",
       "      <td>25.7600</td>\n",
       "      <td>310.0</td>\n",
       "      <td>16.1000</td>\n",
       "      <td>1005.90</td>\n",
       "      <td>Partly cloudy until evening and breezy in the ...</td>\n",
       "    </tr>\n",
       "    <tr>\n",
       "      <td>6</td>\n",
       "      <td>2012-04-01 06:00:00.000 +0200</td>\n",
       "      <td>16</td>\n",
       "      <td>0</td>\n",
       "      <td>3.888889</td>\n",
       "      <td>-0.805556</td>\n",
       "      <td>0.731044</td>\n",
       "      <td>24.1500</td>\n",
       "      <td>330.0</td>\n",
       "      <td>9.9820</td>\n",
       "      <td>1008.30</td>\n",
       "      <td>Partly cloudy until evening and breezy in the ...</td>\n",
       "    </tr>\n",
       "    <tr>\n",
       "      <td>7</td>\n",
       "      <td>2012-04-01 07:00:00.000 +0200</td>\n",
       "      <td>16</td>\n",
       "      <td>0</td>\n",
       "      <td>2.777778</td>\n",
       "      <td>-2.038889</td>\n",
       "      <td>0.520000</td>\n",
       "      <td>22.5400</td>\n",
       "      <td>320.0</td>\n",
       "      <td>9.9820</td>\n",
       "      <td>1010.30</td>\n",
       "      <td>Partly cloudy until evening and breezy in the ...</td>\n",
       "    </tr>\n",
       "    <tr>\n",
       "      <td>11</td>\n",
       "      <td>2012-04-01 11:00:00.000 +0200</td>\n",
       "      <td>18</td>\n",
       "      <td>0</td>\n",
       "      <td>7.711111</td>\n",
       "      <td>3.900000</td>\n",
       "      <td>0.380000</td>\n",
       "      <td>26.3235</td>\n",
       "      <td>329.0</td>\n",
       "      <td>10.3684</td>\n",
       "      <td>1012.74</td>\n",
       "      <td>Partly cloudy until evening and breezy in the ...</td>\n",
       "    </tr>\n",
       "    <tr>\n",
       "      <td>...</td>\n",
       "      <td>...</td>\n",
       "      <td>...</td>\n",
       "      <td>...</td>\n",
       "      <td>...</td>\n",
       "      <td>...</td>\n",
       "      <td>...</td>\n",
       "      <td>...</td>\n",
       "      <td>...</td>\n",
       "      <td>...</td>\n",
       "      <td>...</td>\n",
       "      <td>...</td>\n",
       "    </tr>\n",
       "    <tr>\n",
       "      <td>35072</td>\n",
       "      <td>2015-09-09 19:00:00.000 +0200</td>\n",
       "      <td>18</td>\n",
       "      <td>0</td>\n",
       "      <td>16.011111</td>\n",
       "      <td>16.011111</td>\n",
       "      <td>0.460000</td>\n",
       "      <td>0.1288</td>\n",
       "      <td>340.0</td>\n",
       "      <td>16.1000</td>\n",
       "      <td>1019.23</td>\n",
       "      <td>Partly cloudy starting in the morning continui...</td>\n",
       "    </tr>\n",
       "    <tr>\n",
       "      <td>35073</td>\n",
       "      <td>2015-09-09 20:00:00.000 +0200</td>\n",
       "      <td>18</td>\n",
       "      <td>0</td>\n",
       "      <td>13.061111</td>\n",
       "      <td>13.061111</td>\n",
       "      <td>0.550000</td>\n",
       "      <td>6.9552</td>\n",
       "      <td>331.0</td>\n",
       "      <td>15.5526</td>\n",
       "      <td>1019.81</td>\n",
       "      <td>Partly cloudy starting in the morning continui...</td>\n",
       "    </tr>\n",
       "    <tr>\n",
       "      <td>35074</td>\n",
       "      <td>2015-09-09 21:00:00.000 +0200</td>\n",
       "      <td>18</td>\n",
       "      <td>0</td>\n",
       "      <td>11.161111</td>\n",
       "      <td>11.161111</td>\n",
       "      <td>0.670000</td>\n",
       "      <td>7.9212</td>\n",
       "      <td>352.0</td>\n",
       "      <td>16.1000</td>\n",
       "      <td>1020.33</td>\n",
       "      <td>Partly cloudy starting in the morning continui...</td>\n",
       "    </tr>\n",
       "    <tr>\n",
       "      <td>35075</td>\n",
       "      <td>2015-09-09 22:00:00.000 +0200</td>\n",
       "      <td>6</td>\n",
       "      <td>0</td>\n",
       "      <td>10.583333</td>\n",
       "      <td>10.583333</td>\n",
       "      <td>0.690000</td>\n",
       "      <td>6.4239</td>\n",
       "      <td>342.0</td>\n",
       "      <td>16.1000</td>\n",
       "      <td>1019.75</td>\n",
       "      <td>Partly cloudy starting in the morning continui...</td>\n",
       "    </tr>\n",
       "    <tr>\n",
       "      <td>35076</td>\n",
       "      <td>2015-09-09 23:00:00.000 +0200</td>\n",
       "      <td>18</td>\n",
       "      <td>0</td>\n",
       "      <td>10.850000</td>\n",
       "      <td>10.850000</td>\n",
       "      <td>0.700000</td>\n",
       "      <td>3.6708</td>\n",
       "      <td>10.0</td>\n",
       "      <td>15.5526</td>\n",
       "      <td>1019.55</td>\n",
       "      <td>Partly cloudy starting in the morning continui...</td>\n",
       "    </tr>\n",
       "  </tbody>\n",
       "</table>\n",
       "<p>31976 rows × 11 columns</p>\n",
       "</div>"
      ],
      "text/plain": [
       "                      Formatted Date  Summary  Precip Type  Temperature (C)  \\\n",
       "1      2012-04-01 01:00:00.000 +0200       16            0         8.333333   \n",
       "3      2012-04-01 03:00:00.000 +0200       16            0         6.111111   \n",
       "6      2012-04-01 06:00:00.000 +0200       16            0         3.888889   \n",
       "7      2012-04-01 07:00:00.000 +0200       16            0         2.777778   \n",
       "11     2012-04-01 11:00:00.000 +0200       18            0         7.711111   \n",
       "...                              ...      ...          ...              ...   \n",
       "35072  2015-09-09 19:00:00.000 +0200       18            0        16.011111   \n",
       "35073  2015-09-09 20:00:00.000 +0200       18            0        13.061111   \n",
       "35074  2015-09-09 21:00:00.000 +0200       18            0        11.161111   \n",
       "35075  2015-09-09 22:00:00.000 +0200        6            0        10.583333   \n",
       "35076  2015-09-09 23:00:00.000 +0200       18            0        10.850000   \n",
       "\n",
       "       Apparent Temperature ©  Humidity  Wind Speed (km/h)  \\\n",
       "1                    5.194444  0.450000            20.9300   \n",
       "3                    1.888889  0.570000            25.7600   \n",
       "6                   -0.805556  0.731044            24.1500   \n",
       "7                   -2.038889  0.520000            22.5400   \n",
       "11                   3.900000  0.380000            26.3235   \n",
       "...                       ...       ...                ...   \n",
       "35072               16.011111  0.460000             0.1288   \n",
       "35073               13.061111  0.550000             6.9552   \n",
       "35074               11.161111  0.670000             7.9212   \n",
       "35075               10.583333  0.690000             6.4239   \n",
       "35076               10.850000  0.700000             3.6708   \n",
       "\n",
       "       Wind Bearing (degrees)  Visibility (km)  Pressure (millibars)  \\\n",
       "1                       320.0          16.1000               1004.10   \n",
       "3                       310.0          16.1000               1005.90   \n",
       "6                       330.0           9.9820               1008.30   \n",
       "7                       320.0           9.9820               1010.30   \n",
       "11                      329.0          10.3684               1012.74   \n",
       "...                       ...              ...                   ...   \n",
       "35072                   340.0          16.1000               1019.23   \n",
       "35073                   331.0          15.5526               1019.81   \n",
       "35074                   352.0          16.1000               1020.33   \n",
       "35075                   342.0          16.1000               1019.75   \n",
       "35076                    10.0          15.5526               1019.55   \n",
       "\n",
       "                                           Daily Summary  \n",
       "1      Partly cloudy until evening and breezy in the ...  \n",
       "3      Partly cloudy until evening and breezy in the ...  \n",
       "6      Partly cloudy until evening and breezy in the ...  \n",
       "7      Partly cloudy until evening and breezy in the ...  \n",
       "11     Partly cloudy until evening and breezy in the ...  \n",
       "...                                                  ...  \n",
       "35072  Partly cloudy starting in the morning continui...  \n",
       "35073  Partly cloudy starting in the morning continui...  \n",
       "35074  Partly cloudy starting in the morning continui...  \n",
       "35075  Partly cloudy starting in the morning continui...  \n",
       "35076  Partly cloudy starting in the morning continui...  \n",
       "\n",
       "[31976 rows x 11 columns]"
      ]
     },
     "execution_count": 33,
     "metadata": {},
     "output_type": "execute_result"
    }
   ],
   "source": [
    "# outliers removed\n",
    "df"
   ]
  },
  {
   "cell_type": "markdown",
   "metadata": {},
   "source": [
    "# Graph Visualisation - BAR GRAPH"
   ]
  },
  {
   "cell_type": "markdown",
   "metadata": {},
   "source": [
    "### 1. Temperature vs Date"
   ]
  },
  {
   "cell_type": "code",
   "execution_count": null,
   "metadata": {},
   "outputs": [],
   "source": [
    "plt.bar(x=df['Formatted Date'], height=df['Temperature (C)'])  "
   ]
  },
  {
   "cell_type": "markdown",
   "metadata": {},
   "source": [
    "### 2. Humidatity vs Date"
   ]
  },
  {
   "cell_type": "code",
   "execution_count": null,
   "metadata": {},
   "outputs": [],
   "source": [
    "plt.bar(x=df['Formatted Date'], height=df['Humidity'])"
   ]
  },
  {
   "cell_type": "markdown",
   "metadata": {},
   "source": [
    "### 3. Visibility vs precip type"
   ]
  },
  {
   "cell_type": "code",
   "execution_count": null,
   "metadata": {},
   "outputs": [],
   "source": [
    "plt.bar(x=df['Precip Type'], height=df['Visibility (km)'])"
   ]
  },
  {
   "cell_type": "markdown",
   "metadata": {},
   "source": [
    "### 4. Wind speed vs Summary"
   ]
  },
  {
   "cell_type": "code",
   "execution_count": null,
   "metadata": {},
   "outputs": [],
   "source": [
    "plt.bar(x=df['Summary'], height=df['Wind Speed (km/h)'])"
   ]
  },
  {
   "cell_type": "markdown",
   "metadata": {},
   "source": [
    "### 5. Visibility vs Summary"
   ]
  },
  {
   "cell_type": "code",
   "execution_count": null,
   "metadata": {},
   "outputs": [],
   "source": [
    "plt.bar(x=df['Summary'], height=df['Visibility (km)'])"
   ]
  },
  {
   "cell_type": "markdown",
   "metadata": {},
   "source": [
    "# Normalization and Standardization"
   ]
  },
  {
   "cell_type": "code",
   "execution_count": 34,
   "metadata": {},
   "outputs": [
    {
     "data": {
      "text/plain": [
       "Temperature (C)             12.677395\n",
       "Apparent Temperature ©      11.736231\n",
       "Humidity                     0.730901\n",
       "Wind Speed (km/h)           10.151795\n",
       "Wind Bearing (degrees)     183.649361\n",
       "Visibility (km)             11.029687\n",
       "Pressure (millibars)      1016.667810\n",
       "dtype: float64"
      ]
     },
     "execution_count": 34,
     "metadata": {},
     "output_type": "execute_result"
    }
   ],
   "source": [
    "# Calculating mean of all required columns\n",
    "df[['Temperature (C)', 'Apparent Temperature ©', 'Humidity', 'Wind Speed (km/h)', 'Wind Bearing (degrees)', 'Visibility (km)', 'Pressure (millibars)']].mean()"
   ]
  },
  {
   "cell_type": "code",
   "execution_count": 35,
   "metadata": {},
   "outputs": [
    {
     "data": {
      "text/plain": [
       "Temperature (C)              89.044259\n",
       "Apparent Temperature ©      109.531888\n",
       "Humidity                      0.040541\n",
       "Wind Speed (km/h)            34.233790\n",
       "Wind Bearing (degrees)    11663.676822\n",
       "Visibility (km)              19.631730\n",
       "Pressure (millibars)         47.672279\n",
       "dtype: float64"
      ]
     },
     "execution_count": 35,
     "metadata": {},
     "output_type": "execute_result"
    }
   ],
   "source": [
    "# Calculating variance of all required columns\n",
    "df[['Temperature (C)','Apparent Temperature ©', 'Humidity', 'Wind Speed (km/h)', 'Wind Bearing (degrees)', 'Visibility (km)', 'Pressure (millibars)']].var()"
   ]
  },
  {
   "cell_type": "code",
   "execution_count": 36,
   "metadata": {},
   "outputs": [],
   "source": [
    "# Data before normalization"
   ]
  },
  {
   "cell_type": "code",
   "execution_count": 37,
   "metadata": {},
   "outputs": [
    {
     "data": {
      "image/png": "[encoded data removed]",
      "text/plain": [
       "<Figure size 432x288 with 1 Axes>"
      ]
     },
     "metadata": {
      "needs_background": "light"
     },
     "output_type": "display_data"
    }
   ],
   "source": [
    "plt.hist(df['Temperature (C)'], 20)\n",
    "plt.xlabel('Temperature (C)')\n",
    "plt.show()"
   ]
  },
  {
   "cell_type": "code",
   "execution_count": 38,
   "metadata": {},
   "outputs": [
    {
     "data": {
      "image/png": "[encoded data removed]",
      "text/plain": [
       "<Figure size 432x288 with 1 Axes>"
      ]
     },
     "metadata": {
      "needs_background": "light"
     },
     "output_type": "display_data"
    }
   ],
   "source": [
    "plt.hist(df['Apparent Temperature ©'], 20)\n",
    "plt.xlabel('Apparent Temperature ©')\n",
    "plt.show()"
   ]
  },
  {
   "cell_type": "code",
   "execution_count": 39,
   "metadata": {},
   "outputs": [
    {
     "data": {
      "image/png": "[encoded data removed]",
      "text/plain": [
       "<Figure size 432x288 with 1 Axes>"
      ]
     },
     "metadata": {
      "needs_background": "light"
     },
     "output_type": "display_data"
    }
   ],
   "source": [
    "plt.hist(df['Humidity'], 20)\n",
    "plt.xlabel('Humidity')\n",
    "plt.show()"
   ]
  },
  {
   "cell_type": "code",
   "execution_count": 40,
   "metadata": {},
   "outputs": [
    {
     "data": {
      "image/png": "[encoded data removed]",
      "text/plain": [
       "<Figure size 432x288 with 1 Axes>"
      ]
     },
     "metadata": {
      "needs_background": "light"
     },
     "output_type": "display_data"
    }
   ],
   "source": [
    "plt.hist(df['Pressure (millibars)'], 20)\n",
    "plt.xlabel('Pressure (millibars)')\n",
    "plt.show()"
   ]
  },
  {
   "cell_type": "markdown",
   "metadata": {},
   "source": [
    "## Need for Normalization and it's effects on the Dataset\n",
    "\n",
    "    -> In the context of machine learning and data science, normalization takes the values from the database and where they are numeric columns, changes them into a common scale. \n",
    "    -> The main benefits of normalization in analytical terms are that it allows faster searching and sorting as it is better at creating indexes via smaller, logical tables. \n",
    "    -> Also, in having more tables, there is a better use of segments to control the tangible placement of data. There will be fewer nulls and redundant data after modelling any necessary columns and bias/issues with anomalies are greatly reduced by removing the differences in scale. \n",
    "    -> In summary, data normalization processes ensure that our data is structured logically and scaled proportionally where required, generally on a scale of 0 to 1. It tends to be used where you have predefined assumptions of your model. \n",
    "    -> By ensuring you have normalized data, the likelihood of success in your machine learning and data science projects vastly improves. \n",
    "    -> It is vital that organizations invest as much in ensuring the quality of their data as they do in the analytical and scientific models that are created by it. Preparation is everything in a successful data strategy."
   ]
  },
  {
   "cell_type": "code",
   "execution_count": 41,
   "metadata": {
    "scrolled": false
   },
   "outputs": [
    {
     "data": {
      "text/html": [
       "<div>\n",
       "<style scoped>\n",
       "    .dataframe tbody tr th:only-of-type {\n",
       "        vertical-align: middle;\n",
       "    }\n",
       "\n",
       "    .dataframe tbody tr th {\n",
       "        vertical-align: top;\n",
       "    }\n",
       "\n",
       "    .dataframe thead th {\n",
       "        text-align: right;\n",
       "    }\n",
       "</style>\n",
       "<table border=\"1\" class=\"dataframe\">\n",
       "  <thead>\n",
       "    <tr style=\"text-align: right;\">\n",
       "      <th></th>\n",
       "      <th>Temperature (C)</th>\n",
       "      <th>Apparent Temperature ©</th>\n",
       "      <th>Humidity</th>\n",
       "      <th>Wind Speed (km/h)</th>\n",
       "      <th>Wind Bearing (degrees)</th>\n",
       "      <th>Visibility (km)</th>\n",
       "      <th>Pressure (millibars)</th>\n",
       "    </tr>\n",
       "  </thead>\n",
       "  <tbody>\n",
       "    <tr>\n",
       "      <td>0</td>\n",
       "      <td>0.438426</td>\n",
       "      <td>0.435537</td>\n",
       "      <td>0.258333</td>\n",
       "      <td>0.787879</td>\n",
       "      <td>0.922311</td>\n",
       "      <td>1.000</td>\n",
       "      <td>0.160055</td>\n",
       "    </tr>\n",
       "    <tr>\n",
       "      <td>1</td>\n",
       "      <td>0.397547</td>\n",
       "      <td>0.380900</td>\n",
       "      <td>0.358333</td>\n",
       "      <td>0.969697</td>\n",
       "      <td>0.902390</td>\n",
       "      <td>1.000</td>\n",
       "      <td>0.209302</td>\n",
       "    </tr>\n",
       "    <tr>\n",
       "      <td>2</td>\n",
       "      <td>0.356668</td>\n",
       "      <td>0.336364</td>\n",
       "      <td>0.492537</td>\n",
       "      <td>0.909091</td>\n",
       "      <td>0.942231</td>\n",
       "      <td>0.620</td>\n",
       "      <td>0.274966</td>\n",
       "    </tr>\n",
       "    <tr>\n",
       "      <td>3</td>\n",
       "      <td>0.336229</td>\n",
       "      <td>0.315978</td>\n",
       "      <td>0.316667</td>\n",
       "      <td>0.848485</td>\n",
       "      <td>0.922311</td>\n",
       "      <td>0.620</td>\n",
       "      <td>0.329685</td>\n",
       "    </tr>\n",
       "    <tr>\n",
       "      <td>4</td>\n",
       "      <td>0.426980</td>\n",
       "      <td>0.414141</td>\n",
       "      <td>0.200000</td>\n",
       "      <td>0.990909</td>\n",
       "      <td>0.940239</td>\n",
       "      <td>0.644</td>\n",
       "      <td>0.396443</td>\n",
       "    </tr>\n",
       "    <tr>\n",
       "      <td>...</td>\n",
       "      <td>...</td>\n",
       "      <td>...</td>\n",
       "      <td>...</td>\n",
       "      <td>...</td>\n",
       "      <td>...</td>\n",
       "      <td>...</td>\n",
       "      <td>...</td>\n",
       "    </tr>\n",
       "    <tr>\n",
       "      <td>31971</td>\n",
       "      <td>0.579663</td>\n",
       "      <td>0.614325</td>\n",
       "      <td>0.266667</td>\n",
       "      <td>0.004848</td>\n",
       "      <td>0.962151</td>\n",
       "      <td>1.000</td>\n",
       "      <td>0.574008</td>\n",
       "    </tr>\n",
       "    <tr>\n",
       "      <td>31972</td>\n",
       "      <td>0.525396</td>\n",
       "      <td>0.565565</td>\n",
       "      <td>0.341667</td>\n",
       "      <td>0.261818</td>\n",
       "      <td>0.944223</td>\n",
       "      <td>0.966</td>\n",
       "      <td>0.589877</td>\n",
       "    </tr>\n",
       "    <tr>\n",
       "      <td>31973</td>\n",
       "      <td>0.490445</td>\n",
       "      <td>0.534160</td>\n",
       "      <td>0.441667</td>\n",
       "      <td>0.298182</td>\n",
       "      <td>0.986056</td>\n",
       "      <td>1.000</td>\n",
       "      <td>0.604104</td>\n",
       "    </tr>\n",
       "    <tr>\n",
       "      <td>31974</td>\n",
       "      <td>0.479816</td>\n",
       "      <td>0.524610</td>\n",
       "      <td>0.458333</td>\n",
       "      <td>0.241818</td>\n",
       "      <td>0.966135</td>\n",
       "      <td>1.000</td>\n",
       "      <td>0.588235</td>\n",
       "    </tr>\n",
       "    <tr>\n",
       "      <td>31975</td>\n",
       "      <td>0.484722</td>\n",
       "      <td>0.529017</td>\n",
       "      <td>0.466667</td>\n",
       "      <td>0.138182</td>\n",
       "      <td>0.304781</td>\n",
       "      <td>0.966</td>\n",
       "      <td>0.582763</td>\n",
       "    </tr>\n",
       "  </tbody>\n",
       "</table>\n",
       "<p>31976 rows × 7 columns</p>\n",
       "</div>"
      ],
      "text/plain": [
       "       Temperature (C)  Apparent Temperature ©  Humidity  Wind Speed (km/h)  \\\n",
       "0             0.438426                0.435537  0.258333           0.787879   \n",
       "1             0.397547                0.380900  0.358333           0.969697   \n",
       "2             0.356668                0.336364  0.492537           0.909091   \n",
       "3             0.336229                0.315978  0.316667           0.848485   \n",
       "4             0.426980                0.414141  0.200000           0.990909   \n",
       "...                ...                     ...       ...                ...   \n",
       "31971         0.579663                0.614325  0.266667           0.004848   \n",
       "31972         0.525396                0.565565  0.341667           0.261818   \n",
       "31973         0.490445                0.534160  0.441667           0.298182   \n",
       "31974         0.479816                0.524610  0.458333           0.241818   \n",
       "31975         0.484722                0.529017  0.466667           0.138182   \n",
       "\n",
       "       Wind Bearing (degrees)  Visibility (km)  Pressure (millibars)  \n",
       "0                    0.922311            1.000              0.160055  \n",
       "1                    0.902390            1.000              0.209302  \n",
       "2                    0.942231            0.620              0.274966  \n",
       "3                    0.922311            0.620              0.329685  \n",
       "4                    0.940239            0.644              0.396443  \n",
       "...                       ...              ...                   ...  \n",
       "31971                0.962151            1.000              0.574008  \n",
       "31972                0.944223            0.966              0.589877  \n",
       "31973                0.986056            1.000              0.604104  \n",
       "31974                0.966135            1.000              0.588235  \n",
       "31975                0.304781            0.966              0.582763  \n",
       "\n",
       "[31976 rows x 7 columns]"
      ]
     },
     "execution_count": 41,
     "metadata": {},
     "output_type": "execute_result"
    }
   ],
   "source": [
    "cols = ['Temperature (C)', 'Apparent Temperature ©', 'Humidity', 'Wind Speed (km/h)', 'Wind Bearing (degrees)', 'Visibility (km)', 'Pressure (millibars)']\n",
    "\n",
    "# Create x, where x is the values of cols as floats\n",
    "x = df[cols].values.astype(float)\n",
    "\n",
    "# Create a minimum and maximum processor object\n",
    "min_max_scaler = preprocessing.MinMaxScaler()\n",
    "\n",
    "# Create an object to transform the data to fit minmax processor\n",
    "x_scaled = min_max_scaler.fit_transform(x)\n",
    "\n",
    "# Run the normalizer on the dataframe\n",
    "df_normalized = pd.DataFrame(x_scaled)\n",
    "\n",
    "df_normalized.columns = ['Temperature (C)', 'Apparent Temperature ©', 'Humidity', 'Wind Speed (km/h)', 'Wind Bearing (degrees)', 'Visibility (km)', 'Pressure (millibars)']\n",
    "df_normalized"
   ]
  },
  {
   "cell_type": "code",
   "execution_count": 42,
   "metadata": {},
   "outputs": [],
   "source": [
    "# Function to check the normalized mean (to zero - 0) and variance (to one - 1)\n",
    "\n",
    "def norm (sample):\n",
    "    mean = sample.mean()\n",
    "    std = np.std(sample)\n",
    "    calc = (sample - mean)/std\n",
    "    print(f\"df_normalized[{col}].mean() = {round(calc.mean())}\")\n",
    "    print(f\"df_normalized[{col}].var() = {round(np.std(calc))}\\n\")"
   ]
  },
  {
   "cell_type": "code",
   "execution_count": 43,
   "metadata": {},
   "outputs": [
    {
     "name": "stdout",
     "output_type": "stream",
     "text": [
      "df_normalized[Temperature (C)].mean() = 0\n",
      "df_normalized[Temperature (C)].var() = 1\n",
      "\n",
      "df_normalized[Apparent Temperature ©].mean() = 0\n",
      "df_normalized[Apparent Temperature ©].var() = 1\n",
      "\n",
      "df_normalized[Humidity].mean() = 0\n",
      "df_normalized[Humidity].var() = 1\n",
      "\n",
      "df_normalized[Wind Speed (km/h)].mean() = 0\n",
      "df_normalized[Wind Speed (km/h)].var() = 1\n",
      "\n",
      "df_normalized[Wind Bearing (degrees)].mean() = 0\n",
      "df_normalized[Wind Bearing (degrees)].var() = 1\n",
      "\n",
      "df_normalized[Visibility (km)].mean() = 0\n",
      "df_normalized[Visibility (km)].var() = 1\n",
      "\n",
      "df_normalized[Pressure (millibars)].mean() = 0\n",
      "df_normalized[Pressure (millibars)].var() = 1\n",
      "\n"
     ]
    }
   ],
   "source": [
    "# Checking for the normalized mean (to zero - 0) and variance (to one - 1)\n",
    "\n",
    "for col in cols:\n",
    "    norm(df_normalized[col]);"
   ]
  },
  {
   "cell_type": "code",
   "execution_count": 44,
   "metadata": {},
   "outputs": [],
   "source": [
    "# Data after normalization"
   ]
  },
  {
   "cell_type": "code",
   "execution_count": 45,
   "metadata": {},
   "outputs": [
    {
     "data": {
      "text/plain": [
       "(array([  16.,  117.,  205.,  285.,  929., 1750., 2763., 3011., 3129.,\n",
       "        2565., 3330., 2909., 3221., 2684., 1940., 1418.,  740.,  558.,\n",
       "         334.,   72.]),\n",
       " array([0.  , 0.05, 0.1 , 0.15, 0.2 , 0.25, 0.3 , 0.35, 0.4 , 0.45, 0.5 ,\n",
       "        0.55, 0.6 , 0.65, 0.7 , 0.75, 0.8 , 0.85, 0.9 , 0.95, 1.  ]),\n",
       " <a list of 20 Patch objects>)"
      ]
     },
     "execution_count": 45,
     "metadata": {},
     "output_type": "execute_result"
    },
    {
     "data": {
      "image/png": "[encoded data removed]",
      "text/plain": [
       "<Figure size 432x288 with 1 Axes>"
      ]
     },
     "metadata": {
      "needs_background": "light"
     },
     "output_type": "display_data"
    }
   ],
   "source": [
    "plt.xlabel('Temperature (C)')\n",
    "plt.hist(df_normalized['Temperature (C)'], 20)"
   ]
  },
  {
   "cell_type": "code",
   "execution_count": 46,
   "metadata": {},
   "outputs": [
    {
     "data": {
      "text/plain": [
       "[<matplotlib.lines.Line2D at 0x16944f9b8c8>]"
      ]
     },
     "execution_count": 46,
     "metadata": {},
     "output_type": "execute_result"
    },
    {
     "data": {
      "image/png": "[encoded data removed]",
      "text/plain": [
       "<Figure size 432x288 with 1 Axes>"
      ]
     },
     "metadata": {
      "needs_background": "light"
     },
     "output_type": "display_data"
    }
   ],
   "source": [
    "_, bins, _ = plt.hist(df_normalized['Temperature (C)'], 20, density=1)\n",
    "mu, sigma = scipy.stats.norm.fit(df_normalized['Temperature (C)'])\n",
    "best_fit_line = scipy.stats.norm.pdf(bins, mu, sigma)\n",
    "plt.xlabel('Temperature (C)')\n",
    "plt.plot(bins, best_fit_line)"
   ]
  },
  {
   "cell_type": "code",
   "execution_count": 47,
   "metadata": {},
   "outputs": [
    {
     "data": {
      "image/png": "[encoded data removed]",
      "text/plain": [
       "<Figure size 432x288 with 1 Axes>"
      ]
     },
     "metadata": {
      "needs_background": "light"
     },
     "output_type": "display_data"
    }
   ],
   "source": [
    "qqplot(df_normalized['Temperature (C)'], line = 's')\n",
    "plt.show()"
   ]
  },
  {
   "cell_type": "code",
   "execution_count": 48,
   "metadata": {},
   "outputs": [
    {
     "data": {
      "text/plain": [
       "(array([  42.,   91.,  131.,  231.,  675., 1385., 2472., 2512., 3043.,\n",
       "        2229., 2488., 3920., 3549., 3086., 2407., 1532., 1253.,  544.,\n",
       "         332.,   54.]),\n",
       " array([0.  , 0.05, 0.1 , 0.15, 0.2 , 0.25, 0.3 , 0.35, 0.4 , 0.45, 0.5 ,\n",
       "        0.55, 0.6 , 0.65, 0.7 , 0.75, 0.8 , 0.85, 0.9 , 0.95, 1.  ]),\n",
       " <a list of 20 Patch objects>)"
      ]
     },
     "execution_count": 48,
     "metadata": {},
     "output_type": "execute_result"
    },
    {
     "data": {
      "image/png": "[encoded data removed]",
      "text/plain": [
       "<Figure size 432x288 with 1 Axes>"
      ]
     },
     "metadata": {
      "needs_background": "light"
     },
     "output_type": "display_data"
    }
   ],
   "source": [
    "plt.xlabel('Apparent Temperature ©')\n",
    "plt.hist(df_normalized['Apparent Temperature ©'], 20)"
   ]
  },
  {
   "cell_type": "code",
   "execution_count": 49,
   "metadata": {},
   "outputs": [
    {
     "data": {
      "text/plain": [
       "[<matplotlib.lines.Line2D at 0x1694630fa08>]"
      ]
     },
     "execution_count": 49,
     "metadata": {},
     "output_type": "execute_result"
    },
    {
     "data": {
      "image/png": "[encoded data removed]",
      "text/plain": [
       "<Figure size 432x288 with 1 Axes>"
      ]
     },
     "metadata": {
      "needs_background": "light"
     },
     "output_type": "display_data"
    }
   ],
   "source": [
    "_, bins, _ = plt.hist(df_normalized['Apparent Temperature ©'], 20, density=1)\n",
    "mu, sigma = scipy.stats.norm.fit(df_normalized['Apparent Temperature ©'])\n",
    "best_fit_line = scipy.stats.norm.pdf(bins, mu, sigma)\n",
    "plt.xlabel('Apparent Temperature ©')\n",
    "plt.plot(bins, best_fit_line)"
   ]
  },
  {
   "cell_type": "code",
   "execution_count": 50,
   "metadata": {},
   "outputs": [
    {
     "data": {
      "image/png": "[encoded data removed]",
      "text/plain": [
       "<Figure size 432x288 with 1 Axes>"
      ]
     },
     "metadata": {
      "needs_background": "light"
     },
     "output_type": "display_data"
    }
   ],
   "source": [
    "qqplot(df_normalized['Apparent Temperature ©'], line = 's')\n",
    "plt.show()"
   ]
  },
  {
   "cell_type": "code",
   "execution_count": 51,
   "metadata": {},
   "outputs": [
    {
     "data": {
      "text/plain": [
       "(array([7.400e+01, 3.110e+02, 8.450e+02, 1.372e+03, 1.366e+03, 1.585e+03,\n",
       "        1.650e+03, 1.852e+03, 2.217e+03, 2.903e+03, 3.336e+03, 3.970e+03,\n",
       "        4.447e+03, 4.317e+03, 1.725e+03, 2.000e+00, 0.000e+00, 0.000e+00,\n",
       "        2.000e+00, 2.000e+00]),\n",
       " array([0.  , 0.05, 0.1 , 0.15, 0.2 , 0.25, 0.3 , 0.35, 0.4 , 0.45, 0.5 ,\n",
       "        0.55, 0.6 , 0.65, 0.7 , 0.75, 0.8 , 0.85, 0.9 , 0.95, 1.  ]),\n",
       " <a list of 20 Patch objects>)"
      ]
     },
     "execution_count": 51,
     "metadata": {},
     "output_type": "execute_result"
    },
    {
     "data": {
      "image/png": "[encoded data removed]",
      "text/plain": [
       "<Figure size 432x288 with 1 Axes>"
      ]
     },
     "metadata": {
      "needs_background": "light"
     },
     "output_type": "display_data"
    }
   ],
   "source": [
    "plt.xlabel('Humidity')\n",
    "plt.hist(df_normalized['Humidity'], 20)"
   ]
  },
  {
   "cell_type": "code",
   "execution_count": 52,
   "metadata": {},
   "outputs": [
    {
     "data": {
      "text/plain": [
       "[<matplotlib.lines.Line2D at 0x1694685e408>]"
      ]
     },
     "execution_count": 52,
     "metadata": {},
     "output_type": "execute_result"
    },
    {
     "data": {
      "image/png": "[encoded data removed]",
      "text/plain": [
       "<Figure size 432x288 with 1 Axes>"
      ]
     },
     "metadata": {
      "needs_background": "light"
     },
     "output_type": "display_data"
    }
   ],
   "source": [
    "_, bins, _ = plt.hist(df_normalized['Humidity'], 20, density=1)\n",
    "mu, sigma = scipy.stats.norm.fit(df_normalized['Humidity'])\n",
    "best_fit_line = scipy.stats.norm.pdf(bins, mu, sigma)\n",
    "plt.xlabel('Humidity')\n",
    "plt.plot(bins, best_fit_line)"
   ]
  },
  {
   "cell_type": "code",
   "execution_count": 53,
   "metadata": {},
   "outputs": [
    {
     "data": {
      "image/png": "[encoded data removed]",
      "text/plain": [
       "<Figure size 432x288 with 1 Axes>"
      ]
     },
     "metadata": {
      "needs_background": "light"
     },
     "output_type": "display_data"
    }
   ],
   "source": [
    "qqplot(df_normalized['Humidity'], line = 's')\n",
    "plt.show()"
   ]
  },
  {
   "cell_type": "code",
   "execution_count": 54,
   "metadata": {},
   "outputs": [
    {
     "data": {
      "text/plain": [
       "(array([ 785.,  873., 4020., 2200., 2738., 2012., 2020., 2759., 3752.,\n",
       "        2080., 2551., 1236., 1326.,  501.,  429.,  890.,  600.,  432.,\n",
       "         460.,  312.]),\n",
       " array([0.  , 0.05, 0.1 , 0.15, 0.2 , 0.25, 0.3 , 0.35, 0.4 , 0.45, 0.5 ,\n",
       "        0.55, 0.6 , 0.65, 0.7 , 0.75, 0.8 , 0.85, 0.9 , 0.95, 1.  ]),\n",
       " <a list of 20 Patch objects>)"
      ]
     },
     "execution_count": 54,
     "metadata": {},
     "output_type": "execute_result"
    },
    {
     "data": {
      "image/png": "[encoded data removed]",
      "text/plain": [
       "<Figure size 432x288 with 1 Axes>"
      ]
     },
     "metadata": {
      "needs_background": "light"
     },
     "output_type": "display_data"
    }
   ],
   "source": [
    "plt.xlabel('Wind Speed (km/h)')\n",
    "plt.hist(df_normalized['Wind Speed (km/h)'], 20)"
   ]
  },
  {
   "cell_type": "code",
   "execution_count": 55,
   "metadata": {},
   "outputs": [
    {
     "data": {
      "text/plain": [
       "[<matplotlib.lines.Line2D at 0x169479dcfc8>]"
      ]
     },
     "execution_count": 55,
     "metadata": {},
     "output_type": "execute_result"
    },
    {
     "data": {
      "image/png": "[encoded data removed]",
      "text/plain": [
       "<Figure size 432x288 with 1 Axes>"
      ]
     },
     "metadata": {
      "needs_background": "light"
     },
     "output_type": "display_data"
    }
   ],
   "source": [
    "_, bins, _ = plt.hist(df_normalized['Wind Speed (km/h)'], 20, density=1)\n",
    "mu, sigma = scipy.stats.norm.fit(df_normalized['Wind Speed (km/h)'])\n",
    "best_fit_line = scipy.stats.norm.pdf(bins, mu, sigma)\n",
    "plt.xlabel('Wind Speed (km/h)')\n",
    "plt.plot(bins, best_fit_line)"
   ]
  },
  {
   "cell_type": "code",
   "execution_count": 56,
   "metadata": {},
   "outputs": [
    {
     "data": {
      "image/png": "[encoded data removed]",
      "text/plain": [
       "<Figure size 432x288 with 1 Axes>"
      ]
     },
     "metadata": {
      "needs_background": "light"
     },
     "output_type": "display_data"
    }
   ],
   "source": [
    "qqplot(df_normalized['Wind Speed (km/h)'], line = 's')\n",
    "plt.show()"
   ]
  },
  {
   "cell_type": "code",
   "execution_count": 57,
   "metadata": {},
   "outputs": [
    {
     "data": {
      "text/plain": [
       "(array([3.000e+00, 0.000e+00, 0.000e+00, 0.000e+00, 0.000e+00, 1.319e+03,\n",
       "        2.952e+03, 1.503e+03, 1.093e+03, 9.470e+02, 2.418e+03, 3.449e+03,\n",
       "        3.207e+03, 1.908e+03, 1.617e+03, 1.341e+03, 2.066e+03, 2.386e+03,\n",
       "        3.191e+03, 2.576e+03]),\n",
       " array([0.  , 0.05, 0.1 , 0.15, 0.2 , 0.25, 0.3 , 0.35, 0.4 , 0.45, 0.5 ,\n",
       "        0.55, 0.6 , 0.65, 0.7 , 0.75, 0.8 , 0.85, 0.9 , 0.95, 1.  ]),\n",
       " <a list of 20 Patch objects>)"
      ]
     },
     "execution_count": 57,
     "metadata": {},
     "output_type": "execute_result"
    },
    {
     "data": {
      "image/png": "[encoded data removed]",
      "text/plain": [
       "<Figure size 432x288 with 1 Axes>"
      ]
     },
     "metadata": {
      "needs_background": "light"
     },
     "output_type": "display_data"
    }
   ],
   "source": [
    "plt.xlabel('Wind Bearing (degrees)')\n",
    "plt.hist(df_normalized['Wind Bearing (degrees)'], 20)"
   ]
  },
  {
   "cell_type": "code",
   "execution_count": 58,
   "metadata": {},
   "outputs": [
    {
     "data": {
      "text/plain": [
       "[<matplotlib.lines.Line2D at 0x169460cf508>]"
      ]
     },
     "execution_count": 58,
     "metadata": {},
     "output_type": "execute_result"
    },
    {
     "data": {
      "image/png": "[encoded data removed]",
      "text/plain": [
       "<Figure size 432x288 with 1 Axes>"
      ]
     },
     "metadata": {
      "needs_background": "light"
     },
     "output_type": "display_data"
    }
   ],
   "source": [
    "_, bins, _ = plt.hist(df_normalized['Wind Bearing (degrees)'], 20, density=1)\n",
    "mu, sigma = scipy.stats.norm.fit(df_normalized['Wind Bearing (degrees)'])\n",
    "best_fit_line = scipy.stats.norm.pdf(bins, mu, sigma)\n",
    "plt.xlabel('Wind Bearing (degrees)')\n",
    "plt.plot(bins, best_fit_line)"
   ]
  },
  {
   "cell_type": "code",
   "execution_count": 59,
   "metadata": {},
   "outputs": [
    {
     "data": {
      "image/png": "[encoded data removed]",
      "text/plain": [
       "<Figure size 432x288 with 1 Axes>"
      ]
     },
     "metadata": {
      "needs_background": "light"
     },
     "output_type": "display_data"
    }
   ],
   "source": [
    "qqplot(df_normalized['Wind Bearing (degrees)'], line = 's')\n",
    "plt.show()"
   ]
  },
  {
   "cell_type": "code",
   "execution_count": 60,
   "metadata": {},
   "outputs": [
    {
     "data": {
      "text/plain": [
       "(array([ 943.,  481.,  400.,  537.,  599.,  776.,  546.,  993.,  674.,\n",
       "         676.,  857.,  458., 8368., 2391.,  960.,  111.,   37.,  451.,\n",
       "        3109., 8609.]),\n",
       " array([0.  , 0.05, 0.1 , 0.15, 0.2 , 0.25, 0.3 , 0.35, 0.4 , 0.45, 0.5 ,\n",
       "        0.55, 0.6 , 0.65, 0.7 , 0.75, 0.8 , 0.85, 0.9 , 0.95, 1.  ]),\n",
       " <a list of 20 Patch objects>)"
      ]
     },
     "execution_count": 60,
     "metadata": {},
     "output_type": "execute_result"
    },
    {
     "data": {
      "image/png": "[encoded data removed]",
      "text/plain": [
       "<Figure size 432x288 with 1 Axes>"
      ]
     },
     "metadata": {
      "needs_background": "light"
     },
     "output_type": "display_data"
    }
   ],
   "source": [
    "plt.xlabel('Visibility (km)')\n",
    "plt.hist(df_normalized['Visibility (km)'], 20)"
   ]
  },
  {
   "cell_type": "code",
   "execution_count": 61,
   "metadata": {},
   "outputs": [
    {
     "data": {
      "text/plain": [
       "[<matplotlib.lines.Line2D at 0x16947b2c7c8>]"
      ]
     },
     "execution_count": 61,
     "metadata": {},
     "output_type": "execute_result"
    },
    {
     "data": {
      "image/png": "[encoded data removed]",
      "text/plain": [
       "<Figure size 432x288 with 1 Axes>"
      ]
     },
     "metadata": {
      "needs_background": "light"
     },
     "output_type": "display_data"
    }
   ],
   "source": [
    "_, bins, _ = plt.hist(df_normalized['Visibility (km)'], 20, density=1)\n",
    "mu, sigma = scipy.stats.norm.fit(df_normalized['Visibility (km)'])\n",
    "best_fit_line = scipy.stats.norm.pdf(bins, mu, sigma)\n",
    "plt.xlabel('Visibility (km)')\n",
    "plt.plot(bins, best_fit_line)"
   ]
  },
  {
   "cell_type": "code",
   "execution_count": 62,
   "metadata": {},
   "outputs": [
    {
     "data": {
      "image/png": "[encoded data removed]",
      "text/plain": [
       "<Figure size 432x288 with 1 Axes>"
      ]
     },
     "metadata": {
      "needs_background": "light"
     },
     "output_type": "display_data"
    }
   ],
   "source": [
    "qqplot(df_normalized['Visibility (km)'], line = 's')\n",
    "plt.show()"
   ]
  },
  {
   "cell_type": "code",
   "execution_count": 63,
   "metadata": {},
   "outputs": [
    {
     "data": {
      "text/plain": [
       "(array([ 382.,  225.,  382.,  590., 1059., 1390., 2210., 2722., 3655.,\n",
       "        3983., 3294., 3028., 2456., 1696., 1529., 1020.,  813.,  626.,\n",
       "         531.,  385.]),\n",
       " array([0.  , 0.05, 0.1 , 0.15, 0.2 , 0.25, 0.3 , 0.35, 0.4 , 0.45, 0.5 ,\n",
       "        0.55, 0.6 , 0.65, 0.7 , 0.75, 0.8 , 0.85, 0.9 , 0.95, 1.  ]),\n",
       " <a list of 20 Patch objects>)"
      ]
     },
     "execution_count": 63,
     "metadata": {},
     "output_type": "execute_result"
    },
    {
     "data": {
      "image/png": "[encoded data removed]",
      "text/plain": [
       "<Figure size 432x288 with 1 Axes>"
      ]
     },
     "metadata": {
      "needs_background": "light"
     },
     "output_type": "display_data"
    }
   ],
   "source": [
    "plt.xlabel('Pressure (millibars)')\n",
    "plt.hist(df_normalized['Pressure (millibars)'], 20)"
   ]
  },
  {
   "cell_type": "code",
   "execution_count": 64,
   "metadata": {},
   "outputs": [
    {
     "data": {
      "text/plain": [
       "[<matplotlib.lines.Line2D at 0x16947cb9048>]"
      ]
     },
     "execution_count": 64,
     "metadata": {},
     "output_type": "execute_result"
    },
    {
     "data": {
      "image/png": "[encoded data removed]",
      "text/plain": [
       "<Figure size 432x288 with 1 Axes>"
      ]
     },
     "metadata": {
      "needs_background": "light"
     },
     "output_type": "display_data"
    }
   ],
   "source": [
    "_, bins, _ = plt.hist(df_normalized['Pressure (millibars)'], 20, density=1)\n",
    "mu, sigma = scipy.stats.norm.fit(df_normalized['Pressure (millibars)'])\n",
    "best_fit_line = scipy.stats.norm.pdf(bins, mu, sigma)\n",
    "plt.xlabel('Pressure (millibars)')\n",
    "plt.plot(bins, best_fit_line)"
   ]
  },
  {
   "cell_type": "code",
   "execution_count": 65,
   "metadata": {},
   "outputs": [
    {
     "data": {
      "image/png": "[encoded data removed]",
      "text/plain": [
       "<Figure size 432x288 with 1 Axes>"
      ]
     },
     "metadata": {
      "needs_background": "light"
     },
     "output_type": "display_data"
    }
   ],
   "source": [
    "qqplot(df_normalized['Pressure (millibars)'], line = 's')\n",
    "plt.show()"
   ]
  },
  {
   "cell_type": "markdown",
   "metadata": {},
   "source": [
    "## Testing of Hypothesis:"
   ]
  },
  {
   "cell_type": "markdown",
   "metadata": {},
   "source": [
    "### 1. For Column Temperature (C)"
   ]
  },
  {
   "cell_type": "code",
   "execution_count": 66,
   "metadata": {},
   "outputs": [
    {
     "name": "stdout",
     "output_type": "stream",
     "text": [
      "Null hypothesis is rejected and alternate hypothesis is accepted\n",
      "Accepted hypothesis is H1: The mean Temparature is not equal to 12 degree C (mu != 12)\n",
      "z_score=12.8366226481\n",
      "p_value=0.0000000000\n",
      "sample_mean=12.6773945042\n",
      "sample_sd=9.4363265568\n",
      "The test is 2 tailed test\n"
     ]
    }
   ],
   "source": [
    "# Find sample mean and sample standard deviation\n",
    "number_of_values=len(df)            # Number of values in the column\n",
    "Sample_data=df[\"Temperature (C)\"]\n",
    "\n",
    "sample_mean=statistics.mean(Sample_data) \n",
    "sample_sd=statistics.stdev(Sample_data) \n",
    "\n",
    "# Hypothesis\n",
    "# Null Hypothesis\n",
    "# H0: The mean Temparature is 12 degree C (mu=12)\n",
    "H0=\"The mean Temparature is 12 degree C (mu=12)\"\n",
    "\n",
    "# Alternate Hypothesis\n",
    "# H1: The mean Temparature is not equal to 12 degree C (mu != 12)\n",
    "H1=\"The mean Temparature is not equal to 12 degree C (mu != 12)\"\n",
    "\n",
    "population_mean_from_hypothesis=12\n",
    "\n",
    "# Determining if the test is one tailed or two tailed and alloting alpha value\n",
    "\n",
    "test=\"two_tailed_test\"\n",
    "if(test==\"two_tailed_test\"):\n",
    "    number_of_tails=2\n",
    "    alpha = 0.025\n",
    "elif(test==\"one_tailed_test\"):\n",
    "    number_of_tails=1\n",
    "    alpha =0.05\n",
    "\n",
    "# Z score\n",
    "z_score=(sample_mean-population_mean_from_hypothesis)/(sample_sd/np.sqrt(number_of_values))\n",
    "# p Value\n",
    "p_value = scipy.stats.norm.sf(z_score) \n",
    "\n",
    "if p_value > alpha:\n",
    "    print('Null hypothesis accepted')\n",
    "    print('Accepted hypothesis is H0: ',H0)\n",
    "\n",
    "else:\n",
    "    print('Null hypothesis is rejected and alternate hypothesis is accepted')\n",
    "    print('Accepted hypothesis is H1:',H1)\n",
    "\n",
    "print('z_score=%.10f' % (z_score))\n",
    "print('p_value=%.10f' % (p_value))\n",
    "print('sample_mean=%.10f' % (sample_mean))\n",
    "print('sample_sd=%.10f' % (sample_sd))\n",
    "print('The test is '+str(number_of_tails)+' tailed test')\n"
   ]
  },
  {
   "cell_type": "markdown",
   "metadata": {},
   "source": [
    "### 2. For Column Temperature (C)"
   ]
  },
  {
   "cell_type": "code",
   "execution_count": 67,
   "metadata": {},
   "outputs": [
    {
     "name": "stdout",
     "output_type": "stream",
     "text": [
      "Null hypothesis accepted\n",
      "Accepted hypothesis is H0:  The mean Temparature is greater than or equal to 14 degree C (mu>=14)\n",
      "z_score=-25.0633678835\n",
      "p_value=1.0000000000\n",
      "sample_mean=12.6773945042\n",
      "sample_sd=9.4363265568\n",
      "The test is 1 tailed test\n"
     ]
    }
   ],
   "source": [
    "# Find sample mean and sample standard deviation\n",
    "number_of_values=len(df)            # Number of values in the column\n",
    "Sample_data=df[\"Temperature (C)\"]\n",
    "\n",
    "sample_mean=statistics.mean(Sample_data) \n",
    "sample_sd=statistics.stdev(Sample_data) \n",
    "\n",
    "# Hypothesis\n",
    "# Null Hypothesis\n",
    "# H0: The mean Temparature is greater than or equal to 14 degree C (mu >= 14)\n",
    "H0=\"The mean Temparature is greater than or equal to 14 degree C (mu>=14)\"\n",
    "\n",
    "# Alternate Hypothesis\n",
    "# H1: The mean Temparature is less than 14 degree C (mu < 14)\n",
    "H1=\"The mean Temparature is less than 14 degree C (mu < 14)\"\n",
    "\n",
    "population_mean_from_hypothesis=14\n",
    "\n",
    "# Determining if the test is one tailed or two tailed and alloting alpha value\n",
    "\n",
    "test=\"one_tailed_test\"\n",
    "if(test==\"two_tailed_test\"):\n",
    "    number_of_tails=2\n",
    "    alpha = 0.025\n",
    "elif(test==\"one_tailed_test\"):\n",
    "    number_of_tails=1\n",
    "    alpha =0.05\n",
    "\n",
    "# Z score\n",
    "z_score=(sample_mean-population_mean_from_hypothesis)/(sample_sd/np.sqrt(number_of_values))\n",
    "# p Value\n",
    "p_value = scipy.stats.norm.sf(z_score) \n",
    "\n",
    "if p_value > alpha:\n",
    "    print('Null hypothesis accepted')\n",
    "    print('Accepted hypothesis is H0: ',H0)\n",
    "\n",
    "else:\n",
    "    print('Null hypothesis is rejected and alternate hypothesis is accepted')\n",
    "    print('Accepted hypothesis is H1:',H1)\n",
    "\n",
    "print('z_score=%.10f' % (z_score))\n",
    "print('p_value=%.10f' % (p_value))\n",
    "print('sample_mean=%.10f' % (sample_mean))\n",
    "print('sample_sd=%.10f' % (sample_sd))\n",
    "print('The test is '+str(number_of_tails)+' tailed test')\n"
   ]
  },
  {
   "cell_type": "markdown",
   "metadata": {},
   "source": [
    "### 3. For Apparent Temperature ©"
   ]
  },
  {
   "cell_type": "code",
   "execution_count": 68,
   "metadata": {},
   "outputs": [
    {
     "name": "stdout",
     "output_type": "stream",
     "text": [
      "Null hypothesis is rejected and alternate hypothesis is accepted\n",
      "Accepted hypothesis is H1: The mean Apparent Temperature © is not equal to 11.5 degree © (mu != 11.5)\n",
      "z_score=4.0362562544\n",
      "p_value=0.0000271554\n",
      "sample_mean=11.7362310335\n",
      "sample_sd=10.4657483200\n",
      "The test is 2 tailed test\n"
     ]
    }
   ],
   "source": [
    "# Find sample mean and sample standard deviation\n",
    "number_of_values=len(df)            # Number of values in the column\n",
    "Sample_data=df[\"Apparent Temperature ©\"]\n",
    "\n",
    "sample_mean=statistics.mean(Sample_data) \n",
    "sample_sd=statistics.stdev(Sample_data) \n",
    "\n",
    "# Hypothesis\n",
    "# Null Hypothesis\n",
    "# H0: The mean Apparent Temperature © is 11.5 degree © (mu=11.5)\n",
    "H0=\"The mean Apparent Temperature © is 11.5 degree © (mu=11.5)\"\n",
    "\n",
    "# Alternate Hypothesis\n",
    "# H1: The mean Apparent Temperature © is not equal to 11.5 degree © (mu != 11.5)\n",
    "H1=\"The mean Apparent Temperature © is not equal to 11.5 degree © (mu != 11.5)\"\n",
    "\n",
    "population_mean_from_hypothesis=11.5\n",
    "\n",
    "# Determining if the test is one tailed or two tailed and alloting alpha value\n",
    "\n",
    "test=\"two_tailed_test\"\n",
    "if(test==\"two_tailed_test\"):\n",
    "    number_of_tails=2\n",
    "    alpha = 0.025\n",
    "elif(test==\"one_tailed_test\"):\n",
    "    number_of_tails=1\n",
    "    alpha =0.05\n",
    "\n",
    "# Z score\n",
    "z_score=(sample_mean-population_mean_from_hypothesis)/(sample_sd/np.sqrt(number_of_values))\n",
    "# p Value\n",
    "p_value = scipy.stats.norm.sf(z_score) \n",
    "\n",
    "if p_value > alpha:\n",
    "    print('Null hypothesis accepted')\n",
    "    print('Accepted hypothesis is H0: ',H0)\n",
    "\n",
    "else:\n",
    "    print('Null hypothesis is rejected and alternate hypothesis is accepted')\n",
    "    print('Accepted hypothesis is H1:',H1)\n",
    "    \n",
    "print('z_score=%.10f' % (z_score))\n",
    "print('p_value=%.10f' % (p_value))\n",
    "print('sample_mean=%.10f' % (sample_mean))\n",
    "print('sample_sd=%.10f' % (sample_sd))\n",
    "print('The test is '+str(number_of_tails)+' tailed test')\n"
   ]
  },
  {
   "cell_type": "markdown",
   "metadata": {},
   "source": [
    "### 4. For Humidity"
   ]
  },
  {
   "cell_type": "code",
   "execution_count": 69,
   "metadata": {},
   "outputs": [
    {
     "name": "stdout",
     "output_type": "stream",
     "text": [
      "Null hypothesis accepted\n",
      "Accepted hypothesis is H0:  The mean Humidity is equal to 0.8  (mu=11.5)\n",
      "z_score=-61.3674204723\n",
      "p_value=1.0000000000\n",
      "sample_mean=0.7309006083\n",
      "sample_sd=0.2013485115\n",
      "The test is 2 tailed test\n"
     ]
    }
   ],
   "source": [
    "# Find sample mean and sample standard deviation\n",
    "number_of_values=len(df)            # Number of values in the column\n",
    "Sample_data=df[\"Humidity\"]\n",
    "\n",
    "sample_mean=statistics.mean(Sample_data) \n",
    "sample_sd=statistics.stdev(Sample_data) \n",
    "\n",
    "# Hypothesis\n",
    "# Null Hypothesis\n",
    "# H0: The mean Humidity is equal to 0.8  (mu=11.5)\n",
    "H0=\"The mean Humidity is equal to 0.8  (mu=11.5)\"\n",
    "\n",
    "# Alternate Hypothesis\n",
    "# H1: The mean Humidity is not equal to 0.8  (mu=11.5)\n",
    "H1=\"The mean Humidity is not equal to 0.8  (mu=11.5)\"\n",
    "\n",
    "population_mean_from_hypothesis=0.8\n",
    "\n",
    "# Determining if the test is one tailed or two tailed and alloting alpha value\n",
    "\n",
    "test=\"two_tailed_test\"\n",
    "if(test==\"two_tailed_test\"):\n",
    "    number_of_tails=2\n",
    "    alpha = 0.025\n",
    "elif(test==\"one_tailed_test\"):\n",
    "    number_of_tails=1\n",
    "    alpha =0.05\n",
    "\n",
    "# Z score\n",
    "z_score=(sample_mean-population_mean_from_hypothesis)/(sample_sd/np.sqrt(number_of_values))\n",
    "# p Value\n",
    "p_value = scipy.stats.norm.sf(z_score) \n",
    "\n",
    "if p_value > alpha:\n",
    "    print('Null hypothesis accepted')\n",
    "    print('Accepted hypothesis is H0: ',H0)\n",
    "\n",
    "else:\n",
    "    print('Null hypothesis is rejected and alternate hypothesis is accepted')\n",
    "    print('Accepted hypothesis is H1:',H1)\n",
    "    \n",
    "print('z_score=%.10f' % (z_score))\n",
    "print('p_value=%.10f' % (p_value))\n",
    "print('sample_mean=%.10f' % (sample_mean))\n",
    "print('sample_sd=%.10f' % (sample_sd))\n",
    "print('The test is '+str(number_of_tails)+' tailed test')\n"
   ]
  },
  {
   "cell_type": "markdown",
   "metadata": {},
   "source": [
    "# Correlation Test - Pearson Correlation"
   ]
  },
  {
   "cell_type": "code",
   "execution_count": 70,
   "metadata": {},
   "outputs": [],
   "source": [
    "# Creating a function to find out if samples are correlated or not\n",
    "\n",
    "def corr_test_Pearson(FirstSample,SecondSample):\n",
    "    \n",
    "    from scipy.stats import pearsonr\n",
    "    correlation_const, p_value = pearsonr(FirstSample, SecondSample)\n",
    "\n",
    "    # Conclusions on the data if they are dependent or independent using p-value\n",
    "    print('correlation coefficient=%.5f, p=%5f' % (correlation_const, p_value))\n",
    "    if p_value > 0.05:\n",
    "        print('independent samples')\n",
    "    else:\n",
    "        print('dependent samples')\n",
    "\n",
    "    # Conclusions on correlation constant\n",
    "    if(correlation_const>0.6 and p_value < 0.05):\n",
    "        print(\"The given First and Second sample are positively correlated.\")\n",
    "    elif(correlation_const<-0.6 and p_value < 0.05):\n",
    "        print(\"The given First and Second sample are negatively correlated.\")\n",
    "    else:\n",
    "        print(\"The given First and Second sample are not correlated.\")"
   ]
  },
  {
   "cell_type": "markdown",
   "metadata": {},
   "source": [
    "### 1.Correlation test on Temperature (C) and Apparent Temperature ©"
   ]
  },
  {
   "cell_type": "code",
   "execution_count": 71,
   "metadata": {},
   "outputs": [
    {
     "name": "stdout",
     "output_type": "stream",
     "text": [
      "correlation coefficient=0.99075, p=0.000000\n",
      "dependent samples\n",
      "The given First and Second sample are positively correlated.\n"
     ]
    }
   ],
   "source": [
    "# Performing the check for correlation \n",
    "corr_test_Pearson(df['Temperature (C)'],df['Apparent Temperature ©'])"
   ]
  },
  {
   "cell_type": "markdown",
   "metadata": {},
   "source": [
    "### 2.Correlation test on Temperature (C) and Humidity"
   ]
  },
  {
   "cell_type": "code",
   "execution_count": 72,
   "metadata": {},
   "outputs": [
    {
     "name": "stdout",
     "output_type": "stream",
     "text": [
      "correlation coefficient=-0.63808, p=0.000000\n",
      "dependent samples\n",
      "The given First and Second sample are negatively correlated.\n"
     ]
    }
   ],
   "source": [
    "# Performing the check for correlation \n",
    "corr_test_Pearson(df['Temperature (C)'],df['Humidity'])"
   ]
  },
  {
   "cell_type": "markdown",
   "metadata": {},
   "source": [
    "### 3.Correlation test on Temperature (C) and Wind Speed (km/h)"
   ]
  },
  {
   "cell_type": "code",
   "execution_count": 73,
   "metadata": {},
   "outputs": [
    {
     "name": "stdout",
     "output_type": "stream",
     "text": [
      "correlation coefficient=0.02104, p=0.000169\n",
      "dependent samples\n",
      "The given First and Second sample are not correlated.\n"
     ]
    }
   ],
   "source": [
    "# Performing the check for correlation \n",
    "corr_test_Pearson(df['Temperature (C)'],df['Wind Speed (km/h)'])"
   ]
  },
  {
   "cell_type": "markdown",
   "metadata": {},
   "source": [
    "### 4.Correlation test on Temperature (C) and Wind Bearing (degrees)"
   ]
  },
  {
   "cell_type": "code",
   "execution_count": 74,
   "metadata": {},
   "outputs": [
    {
     "name": "stdout",
     "output_type": "stream",
     "text": [
      "correlation coefficient=0.03307, p=0.000000\n",
      "dependent samples\n",
      "The given First and Second sample are not correlated.\n"
     ]
    }
   ],
   "source": [
    "# Performing the check for correlation \n",
    "corr_test_Pearson(df['Temperature (C)'],df['Wind Bearing (degrees)'])"
   ]
  },
  {
   "cell_type": "markdown",
   "metadata": {},
   "source": [
    "### 5.Correlation test on Temperature (C) and Visibility (km)\t"
   ]
  },
  {
   "cell_type": "code",
   "execution_count": 75,
   "metadata": {},
   "outputs": [
    {
     "name": "stdout",
     "output_type": "stream",
     "text": [
      "correlation coefficient=0.39609, p=0.000000\n",
      "dependent samples\n",
      "The given First and Second sample are not correlated.\n"
     ]
    }
   ],
   "source": [
    "# Performing the check for correlation \n",
    "corr_test_Pearson(df['Temperature (C)'],df['Visibility (km)'])"
   ]
  },
  {
   "cell_type": "markdown",
   "metadata": {},
   "source": [
    "### 6.Correlation test on Temperature (C) and Pressure (millibars)"
   ]
  },
  {
   "cell_type": "code",
   "execution_count": 76,
   "metadata": {},
   "outputs": [
    {
     "name": "stdout",
     "output_type": "stream",
     "text": [
      "correlation coefficient=-0.30164, p=0.000000\n",
      "dependent samples\n",
      "The given First and Second sample are not correlated.\n"
     ]
    }
   ],
   "source": [
    "# Performing the check for correlation \n",
    "corr_test_Pearson(df['Temperature (C)'],df['Pressure (millibars)'])"
   ]
  },
  {
   "cell_type": "markdown",
   "metadata": {},
   "source": [
    "### 7.Correlation test on Humidity and Wind Speed (km/h)"
   ]
  },
  {
   "cell_type": "code",
   "execution_count": 77,
   "metadata": {},
   "outputs": [
    {
     "name": "stdout",
     "output_type": "stream",
     "text": [
      "correlation coefficient=0.02104, p=0.000169\n",
      "dependent samples\n",
      "The given First and Second sample are not correlated.\n"
     ]
    }
   ],
   "source": [
    "# Performing the check for correlation \n",
    "corr_test_Pearson(df['Temperature (C)'],df['Wind Speed (km/h)'])"
   ]
  },
  {
   "cell_type": "markdown",
   "metadata": {},
   "source": [
    "### Correlation Graph"
   ]
  },
  {
   "cell_type": "code",
   "execution_count": null,
   "metadata": {},
   "outputs": [],
   "source": [
    "# Plotting the correlation graphs \n",
    "\n",
    "sns.pairplot(df)\n",
    "plt.show()"
   ]
  },
  {
   "cell_type": "markdown",
   "metadata": {},
   "source": [
    "## Feature Selection:"
   ]
  },
  {
   "cell_type": "code",
   "execution_count": 78,
   "metadata": {},
   "outputs": [],
   "source": [
    "# Selecting the features that will help in prediction\n",
    "\n",
    "features = ['Apparent Temperature ©','Humidity','Wind Speed (km/h)','Wind Bearing (degrees)','Visibility (km)','Pressure (millibars)']\n",
    "X = df_normalized[features] \n",
    "y = df_normalized[\"Temperature (C)\"]"
   ]
  },
  {
   "cell_type": "markdown",
   "metadata": {},
   "source": [
    "## Linear Regression:"
   ]
  },
  {
   "cell_type": "code",
   "execution_count": 79,
   "metadata": {},
   "outputs": [],
   "source": [
    "# split data into training set and test set\n",
    "\n",
    "from sklearn.model_selection import train_test_split\n",
    "X_train, X_test, y_train, y_test = train_test_split(X, y, test_size = 1/3, random_state = 0)"
   ]
  },
  {
   "cell_type": "code",
   "execution_count": 80,
   "metadata": {},
   "outputs": [],
   "source": [
    "# Function to fit simple linear regression to training set \n",
    "\n",
    "from sklearn.linear_model import LinearRegression\n",
    "from sklearn.metrics import mean_squared_error\n",
    "\n",
    "def LinearReg(X_train,X_test):\n",
    "    \n",
    "    regressor = LinearRegression()\n",
    "    regressor.fit(X_train, y_train)\n",
    "\n",
    "    # Predicting the test set results\n",
    "    y_pred = regressor.predict(X_test)\n",
    "    \n",
    "    # Plotting the graph showing the best fit predicted values\n",
    "    plt.scatter(X_test, y_test, color = 'blue')\n",
    "    plt.plot(X_test, y_pred, color = 'red')\n",
    "    plt.show()"
   ]
  },
  {
   "cell_type": "markdown",
   "metadata": {},
   "source": [
    "### 1. Performing Linear Regression on Apparent Temperature © as independent and Temperature as dependent variable"
   ]
  },
  {
   "cell_type": "code",
   "execution_count": 81,
   "metadata": {},
   "outputs": [
    {
     "data": {
      "image/png": "[encoded data removed]",
      "text/plain": [
       "<Figure size 432x288 with 1 Axes>"
      ]
     },
     "metadata": {
      "needs_background": "light"
     },
     "output_type": "display_data"
    }
   ],
   "source": [
    "LinearReg(X_train['Apparent Temperature ©'].values.reshape(-1,1),X_test['Apparent Temperature ©'].values.reshape(-1,1))"
   ]
  },
  {
   "cell_type": "markdown",
   "metadata": {},
   "source": [
    "### 2. Performing Linear Regression on Humidity as independent and Temperature as dependent variable"
   ]
  },
  {
   "cell_type": "code",
   "execution_count": 82,
   "metadata": {},
   "outputs": [
    {
     "data": {
      "image/png": "[encoded data removed]",
      "text/plain": [
       "<Figure size 432x288 with 1 Axes>"
      ]
     },
     "metadata": {
      "needs_background": "light"
     },
     "output_type": "display_data"
    }
   ],
   "source": [
    "LinearReg(X_train['Humidity'].values.reshape(-1,1),X_test['Humidity'].values.reshape(-1,1))"
   ]
  },
  {
   "cell_type": "markdown",
   "metadata": {},
   "source": [
    "### 3. Performing Linear Regression on Wind Speed (km/h) as independent and Temperature as dependent variable"
   ]
  },
  {
   "cell_type": "code",
   "execution_count": 83,
   "metadata": {},
   "outputs": [
    {
     "data": {
      "image/png": "[encoded data removed]",
      "text/plain": [
       "<Figure size 432x288 with 1 Axes>"
      ]
     },
     "metadata": {
      "needs_background": "light"
     },
     "output_type": "display_data"
    }
   ],
   "source": [
    "LinearReg(X_train['Wind Speed (km/h)'].values.reshape(-1,1),X_test['Wind Speed (km/h)'].values.reshape(-1,1))"
   ]
  },
  {
   "cell_type": "markdown",
   "metadata": {},
   "source": [
    "### 4. Performing Linear Regression on Wind Bearing (degrees) as independent and Temperature as dependent variable"
   ]
  },
  {
   "cell_type": "code",
   "execution_count": 84,
   "metadata": {},
   "outputs": [
    {
     "data": {
      "image/png": "[encoded data removed]",
      "text/plain": [
       "<Figure size 432x288 with 1 Axes>"
      ]
     },
     "metadata": {
      "needs_background": "light"
     },
     "output_type": "display_data"
    }
   ],
   "source": [
    "LinearReg(X_train['Wind Bearing (degrees)'].values.reshape(-1,1),X_test['Wind Bearing (degrees)'].values.reshape(-1,1))"
   ]
  },
  {
   "cell_type": "markdown",
   "metadata": {},
   "source": [
    "### 5. Performing Linear Regression on Visibility (km) as independent and Temperature as dependent variable"
   ]
  },
  {
   "cell_type": "code",
   "execution_count": 85,
   "metadata": {},
   "outputs": [
    {
     "data": {
      "image/png": "[encoded data removed]",
      "text/plain": [
       "<Figure size 432x288 with 1 Axes>"
      ]
     },
     "metadata": {
      "needs_background": "light"
     },
     "output_type": "display_data"
    }
   ],
   "source": [
    "LinearReg(X_train['Visibility (km)'].values.reshape(-1,1),X_test['Visibility (km)'].values.reshape(-1,1))"
   ]
  },
  {
   "cell_type": "markdown",
   "metadata": {},
   "source": [
    "### 6. Performing Linear Regression on Pressure (millibars) as independent and Temperature as dependent variable"
   ]
  },
  {
   "cell_type": "code",
   "execution_count": 86,
   "metadata": {},
   "outputs": [
    {
     "data": {
      "image/png": "[encoded data removed]",
      "text/plain": [
       "<Figure size 432x288 with 1 Axes>"
      ]
     },
     "metadata": {
      "needs_background": "light"
     },
     "output_type": "display_data"
    }
   ],
   "source": [
    "LinearReg(X_train['Pressure (millibars)'].values.reshape(-1,1),X_test['Pressure (millibars)'].values.reshape(-1,1))"
   ]
  },
  {
   "cell_type": "markdown",
   "metadata": {},
   "source": [
    "## Performing Linear regression with all the features selected"
   ]
  },
  {
   "cell_type": "code",
   "execution_count": 87,
   "metadata": {},
   "outputs": [],
   "source": [
    "# Fitting simple linear regression to training set\n",
    "regressor = LinearRegression()\n",
    "regressor.fit(X_train, y_train)\n",
    "\n",
    "# Predicting the test set results\n",
    "y_pred = regressor.predict(X_test)"
   ]
  },
  {
   "cell_type": "markdown",
   "metadata": {},
   "source": [
    "Since we cannot plot a scatter plot for X variable which contains all the features , therefore we cannot visualise a graph and check the best predicted values. Therefore, we have found the root mean squared error to get an idea about how good the prediction is by including all the useful features."
   ]
  },
  {
   "cell_type": "code",
   "execution_count": 88,
   "metadata": {},
   "outputs": [
    {
     "data": {
      "text/plain": [
       "0.020752525044044453"
      ]
     },
     "execution_count": 88,
     "metadata": {},
     "output_type": "execute_result"
    }
   ],
   "source": [
    "# Finding the error in the prediction , lower the error better the accuracy\n",
    "\n",
    "from sklearn.metrics import mean_squared_error\n",
    "score = math.sqrt(mean_squared_error(y_test, y_pred))\n",
    "\n",
    "score"
   ]
  }
 ],
 "metadata": {
  "kernelspec": {
   "display_name": "Python 3",
   "language": "python",
   "name": "python3"
  },
  "language_info": {
   "codemirror_mode": {
    "name": "ipython",
    "version": 3
   },
   "file_extension": ".py",
   "mimetype": "text/x-python",
   "name": "python",
   "nbconvert_exporter": "python",
   "pygments_lexer": "ipython3",
   "version": "3.7.4"
  }
 },
 "nbformat": 4,
 "nbformat_minor": 4
}
