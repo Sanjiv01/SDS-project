{
 "cells": [
  {
   "cell_type": "markdown",
   "metadata": {},
   "source": [
    "# Weather Dataset - Temperature Prediction\n",
    "\n",
    "## _Description_: \n",
    "\n",
    "- **Formatted Date**: Date in yyyy-mm-dd hr(in 24 hr format) format.\n",
    "- **Summary**: Summary of weather.\n",
    "- **Precip Type**: Type of precipitation.\n",
    "- **Temperature**: Temperature in degrees Centigrade.\n",
    "- **Apparent Temperature Â©**: Apparent temperature in degrees Centigrade.\n",
    "- **humidity**: Humidity at recorded time.\n",
    "- **Wind Speed**: Wind speed in km/hrs.\n",
    "- **Wind Bearing**: Wind Bearing in degrees.\n",
    "- **Visibility**: Visibility in km.\n"
   ]
  },
  {
   "cell_type": "code",
   "execution_count": null,
   "metadata": {},
   "outputs": [],
   "source": []
  },
  {
   "cell_type": "code",
   "execution_count": null,
   "metadata": {},
   "outputs": [],
   "source": []
  },
  {
   "cell_type": "code",
   "execution_count": 46,
   "metadata": {},
   "outputs": [],
   "source": [
    "# Importing the necessary modules\n",
    "\n",
    "import pandas as pd\n",
    "import numpy as np\n",
    "import matplotlib.pyplot as plt\n",
    "from matplotlib import pyplot\n",
    "from sklearn.impute import SimpleImputer\n",
    "from sklearn import preprocessing\n",
    "from statsmodels.graphics.gofplots import qqplot\n",
    "import statistics \n",
    "import scipy\n",
    "import math\n",
    "%matplotlib inline"
   ]
  },
  {
   "cell_type": "code",
   "execution_count": 47,
   "metadata": {},
   "outputs": [
    {
     "data": {
      "text/html": [
       "<div>\n",
       "<style scoped>\n",
       "    .dataframe tbody tr th:only-of-type {\n",
       "        vertical-align: middle;\n",
       "    }\n",
       "\n",
       "    .dataframe tbody tr th {\n",
       "        vertical-align: top;\n",
       "    }\n",
       "\n",
       "    .dataframe thead th {\n",
       "        text-align: right;\n",
       "    }\n",
       "</style>\n",
       "<table border=\"1\" class=\"dataframe\">\n",
       "  <thead>\n",
       "    <tr style=\"text-align: right;\">\n",
       "      <th></th>\n",
       "      <th>Unnamed: 0</th>\n",
       "      <th>Formatted Date</th>\n",
       "      <th>Summary</th>\n",
       "      <th>Precip Type</th>\n",
       "      <th>Temperature (C)</th>\n",
       "      <th>Apparent Temperature ©</th>\n",
       "      <th>Humidity</th>\n",
       "      <th>Wind Speed (km/h)</th>\n",
       "      <th>Wind Bearing (degrees)</th>\n",
       "      <th>Visibility (km)</th>\n",
       "      <th>Loud Cover</th>\n",
       "      <th>Pressure (millibars)</th>\n",
       "      <th>Daily Summary</th>\n",
       "    </tr>\n",
       "  </thead>\n",
       "  <tbody>\n",
       "    <tr>\n",
       "      <th>0</th>\n",
       "      <td>0</td>\n",
       "      <td>2012-04-01 00:00:00.000 +0200</td>\n",
       "      <td>Breezy and Overcast</td>\n",
       "      <td>rain</td>\n",
       "      <td>9.444444</td>\n",
       "      <td>5.511111111</td>\n",
       "      <td>0.52</td>\n",
       "      <td>35.42</td>\n",
       "      <td>340</td>\n",
       "      <td>16.1</td>\n",
       "      <td>0</td>\n",
       "      <td>1002.8</td>\n",
       "      <td>Partly cloudy until evening and breezy in the ...</td>\n",
       "    </tr>\n",
       "    <tr>\n",
       "      <th>1</th>\n",
       "      <td>1</td>\n",
       "      <td>2012-04-01 01:00:00.000 +0200</td>\n",
       "      <td>Mostly Cloudy</td>\n",
       "      <td>rain</td>\n",
       "      <td>8.333333</td>\n",
       "      <td>5.194444444</td>\n",
       "      <td>0.45</td>\n",
       "      <td>20.93</td>\n",
       "      <td>320</td>\n",
       "      <td>16.1</td>\n",
       "      <td>0</td>\n",
       "      <td>1004.1</td>\n",
       "      <td>Partly cloudy until evening and breezy in the ...</td>\n",
       "    </tr>\n",
       "    <tr>\n",
       "      <th>2</th>\n",
       "      <td>2</td>\n",
       "      <td>2012-04-01 02:00:00.000 +0200</td>\n",
       "      <td>Breezy and Mostly Cloudy</td>\n",
       "      <td>rain</td>\n",
       "      <td>6.855556</td>\n",
       "      <td>2.244444444</td>\n",
       "      <td>0.54</td>\n",
       "      <td>33.2304</td>\n",
       "      <td>322</td>\n",
       "      <td>15.1501</td>\n",
       "      <td>0</td>\n",
       "      <td>1004.97</td>\n",
       "      <td>Partly cloudy until evening and breezy in the ...</td>\n",
       "    </tr>\n",
       "    <tr>\n",
       "      <th>3</th>\n",
       "      <td>3</td>\n",
       "      <td>2012-04-01 03:00:00.000 +0200</td>\n",
       "      <td>Mostly Cloudy</td>\n",
       "      <td>rain</td>\n",
       "      <td>6.111111</td>\n",
       "      <td>1.888888889</td>\n",
       "      <td>0.57</td>\n",
       "      <td>25.76</td>\n",
       "      <td>310</td>\n",
       "      <td>16.1</td>\n",
       "      <td>0</td>\n",
       "      <td>1005.9</td>\n",
       "      <td>Partly cloudy until evening and breezy in the ...</td>\n",
       "    </tr>\n",
       "    <tr>\n",
       "      <th>4</th>\n",
       "      <td>4</td>\n",
       "      <td>2012-04-01 04:00:00.000 +0200</td>\n",
       "      <td>Breezy and Overcast</td>\n",
       "      <td>rain</td>\n",
       "      <td>6.111111</td>\n",
       "      <td>1.6055555559999999</td>\n",
       "      <td>0.51</td>\n",
       "      <td>28.98</td>\n",
       "      <td>310</td>\n",
       "      <td>16.1</td>\n",
       "      <td>0</td>\n",
       "      <td>1006.0</td>\n",
       "      <td>Partly cloudy until evening and breezy in the ...</td>\n",
       "    </tr>\n",
       "  </tbody>\n",
       "</table>\n",
       "</div>"
      ],
      "text/plain": [
       "   Unnamed: 0                 Formatted Date                   Summary  \\\n",
       "0           0  2012-04-01 00:00:00.000 +0200       Breezy and Overcast   \n",
       "1           1  2012-04-01 01:00:00.000 +0200             Mostly Cloudy   \n",
       "2           2  2012-04-01 02:00:00.000 +0200  Breezy and Mostly Cloudy   \n",
       "3           3  2012-04-01 03:00:00.000 +0200             Mostly Cloudy   \n",
       "4           4  2012-04-01 04:00:00.000 +0200       Breezy and Overcast   \n",
       "\n",
       "  Precip Type  Temperature (C) Apparent Temperature © Humidity  \\\n",
       "0        rain         9.444444            5.511111111     0.52   \n",
       "1        rain         8.333333            5.194444444     0.45   \n",
       "2        rain         6.855556            2.244444444     0.54   \n",
       "3        rain         6.111111            1.888888889     0.57   \n",
       "4        rain         6.111111     1.6055555559999999     0.51   \n",
       "\n",
       "  Wind Speed (km/h) Wind Bearing (degrees) Visibility (km)  Loud Cover  \\\n",
       "0             35.42                    340            16.1           0   \n",
       "1             20.93                    320            16.1           0   \n",
       "2           33.2304                    322         15.1501           0   \n",
       "3             25.76                    310            16.1           0   \n",
       "4             28.98                    310            16.1           0   \n",
       "\n",
       "  Pressure (millibars)                                      Daily Summary  \n",
       "0               1002.8  Partly cloudy until evening and breezy in the ...  \n",
       "1               1004.1  Partly cloudy until evening and breezy in the ...  \n",
       "2              1004.97  Partly cloudy until evening and breezy in the ...  \n",
       "3               1005.9  Partly cloudy until evening and breezy in the ...  \n",
       "4               1006.0  Partly cloudy until evening and breezy in the ...  "
      ]
     },
     "execution_count": 47,
     "metadata": {},
     "output_type": "execute_result"
    }
   ],
   "source": [
    "# Importing dataset into data frame variable\n",
    "df = pd.read_csv(\"WeatherHistoryDataset.csv\")\n",
    "\n",
    "#printing the first 5 rows of the dataset\n",
    "df.head()"
   ]
  },
  {
   "cell_type": "code",
   "execution_count": 48,
   "metadata": {
    "scrolled": true
   },
   "outputs": [
    {
     "data": {
      "text/html": [
       "<div>\n",
       "<style scoped>\n",
       "    .dataframe tbody tr th:only-of-type {\n",
       "        vertical-align: middle;\n",
       "    }\n",
       "\n",
       "    .dataframe tbody tr th {\n",
       "        vertical-align: top;\n",
       "    }\n",
       "\n",
       "    .dataframe thead th {\n",
       "        text-align: right;\n",
       "    }\n",
       "</style>\n",
       "<table border=\"1\" class=\"dataframe\">\n",
       "  <thead>\n",
       "    <tr style=\"text-align: right;\">\n",
       "      <th></th>\n",
       "      <th>Unnamed: 0</th>\n",
       "      <th>Temperature (C)</th>\n",
       "      <th>Loud Cover</th>\n",
       "    </tr>\n",
       "  </thead>\n",
       "  <tbody>\n",
       "    <tr>\n",
       "      <th>count</th>\n",
       "      <td>35077.000000</td>\n",
       "      <td>35077.000000</td>\n",
       "      <td>35077.0</td>\n",
       "    </tr>\n",
       "    <tr>\n",
       "      <th>mean</th>\n",
       "      <td>17538.000000</td>\n",
       "      <td>12.190872</td>\n",
       "      <td>0.0</td>\n",
       "    </tr>\n",
       "    <tr>\n",
       "      <th>std</th>\n",
       "      <td>10126.002033</td>\n",
       "      <td>9.549309</td>\n",
       "      <td>0.0</td>\n",
       "    </tr>\n",
       "    <tr>\n",
       "      <th>min</th>\n",
       "      <td>0.000000</td>\n",
       "      <td>-21.822222</td>\n",
       "      <td>0.0</td>\n",
       "    </tr>\n",
       "    <tr>\n",
       "      <th>25%</th>\n",
       "      <td>8769.000000</td>\n",
       "      <td>4.911111</td>\n",
       "      <td>0.0</td>\n",
       "    </tr>\n",
       "    <tr>\n",
       "      <th>50%</th>\n",
       "      <td>17538.000000</td>\n",
       "      <td>12.150000</td>\n",
       "      <td>0.0</td>\n",
       "    </tr>\n",
       "    <tr>\n",
       "      <th>75%</th>\n",
       "      <td>26307.000000</td>\n",
       "      <td>18.894444</td>\n",
       "      <td>0.0</td>\n",
       "    </tr>\n",
       "    <tr>\n",
       "      <th>max</th>\n",
       "      <td>35076.000000</td>\n",
       "      <td>38.861111</td>\n",
       "      <td>0.0</td>\n",
       "    </tr>\n",
       "  </tbody>\n",
       "</table>\n",
       "</div>"
      ],
      "text/plain": [
       "         Unnamed: 0  Temperature (C)  Loud Cover\n",
       "count  35077.000000     35077.000000     35077.0\n",
       "mean   17538.000000        12.190872         0.0\n",
       "std    10126.002033         9.549309         0.0\n",
       "min        0.000000       -21.822222         0.0\n",
       "25%     8769.000000         4.911111         0.0\n",
       "50%    17538.000000        12.150000         0.0\n",
       "75%    26307.000000        18.894444         0.0\n",
       "max    35076.000000        38.861111         0.0"
      ]
     },
     "execution_count": 48,
     "metadata": {},
     "output_type": "execute_result"
    }
   ],
   "source": [
    "# Finding out the general information about the dataset\n",
    "df.describe()"
   ]
  },
  {
   "cell_type": "code",
   "execution_count": 49,
   "metadata": {},
   "outputs": [],
   "source": [
    "# Since the NaN values are represented as \" \" it has to be converted to NaN value so that we can clean the data efficiently\n",
    "df = df.replace(\" \", np.nan)"
   ]
  },
  {
   "cell_type": "code",
   "execution_count": 50,
   "metadata": {},
   "outputs": [
    {
     "data": {
      "text/plain": [
       "Unnamed: 0                  0\n",
       "Formatted Date              0\n",
       "Summary                   203\n",
       "Precip Type               144\n",
       "Temperature (C)             0\n",
       "Apparent Temperature ©    199\n",
       "Humidity                  144\n",
       "Wind Speed (km/h)         260\n",
       "Wind Bearing (degrees)    178\n",
       "Visibility (km)           253\n",
       "Loud Cover                  0\n",
       "Pressure (millibars)      159\n",
       "Daily Summary               0\n",
       "dtype: int64"
      ]
     },
     "execution_count": 50,
     "metadata": {},
     "output_type": "execute_result"
    }
   ],
   "source": [
    "# Counting the number of NaN values through each column\n",
    "df.isnull().sum()"
   ]
  },
  {
   "cell_type": "markdown",
   "metadata": {},
   "source": [
    "## Data Cleaning:"
   ]
  },
  {
   "cell_type": "code",
   "execution_count": 51,
   "metadata": {},
   "outputs": [],
   "source": [
    "# Removing rows where the Precip type and Summary is NaN\n",
    "\n",
    "df = df[df[\"Precip Type\"].notna()]\n",
    "df = df[df[\"Summary\"].notna()]"
   ]
  },
  {
   "cell_type": "code",
   "execution_count": 52,
   "metadata": {},
   "outputs": [],
   "source": [
    "# Dropping the Loud Cover column as it does not contain useful information\n",
    "\n",
    "df.drop('Loud Cover', inplace=True, axis=1)"
   ]
  },
  {
   "cell_type": "code",
   "execution_count": 53,
   "metadata": {},
   "outputs": [],
   "source": [
    "# Preparing the Label Encoder\n",
    "\n",
    "le = preprocessing.LabelEncoder()\n",
    "\n",
    "# Encoding the values of Precip Type and Summary to unique values so that we can use them for analysis\n",
    "\n",
    "df[\"Precip Type\"] = le.fit_transform(df[\"Precip Type\"])\n",
    "df[\"Summary\"] = le.fit_transform(df[\"Summary\"])"
   ]
  },
  {
   "cell_type": "code",
   "execution_count": 54,
   "metadata": {},
   "outputs": [],
   "source": [
    "# Imputing the NaN values with the mean strategy \n",
    "\n",
    "imputer = SimpleImputer(missing_values=np.nan, strategy='mean')\n",
    "imputer = imputer.fit(df.iloc[:,4:10].values)\n",
    "df.iloc[:,4:10] = imputer.transform(df.iloc[:,4:10].values)"
   ]
  },
  {
   "cell_type": "code",
   "execution_count": 55,
   "metadata": {},
   "outputs": [],
   "source": [
    "# Removing the duplicate rows\n",
    "\n",
    "df.drop_duplicates(subset =\"Formatted Date\", keep = False, inplace = True)"
   ]
  },
  {
   "cell_type": "code",
   "execution_count": 56,
   "metadata": {},
   "outputs": [
    {
     "data": {
      "text/html": [
       "<div>\n",
       "<style scoped>\n",
       "    .dataframe tbody tr th:only-of-type {\n",
       "        vertical-align: middle;\n",
       "    }\n",
       "\n",
       "    .dataframe tbody tr th {\n",
       "        vertical-align: top;\n",
       "    }\n",
       "\n",
       "    .dataframe thead th {\n",
       "        text-align: right;\n",
       "    }\n",
       "</style>\n",
       "<table border=\"1\" class=\"dataframe\">\n",
       "  <thead>\n",
       "    <tr style=\"text-align: right;\">\n",
       "      <th></th>\n",
       "      <th>Unnamed: 0</th>\n",
       "      <th>Formatted Date</th>\n",
       "      <th>Summary</th>\n",
       "      <th>Precip Type</th>\n",
       "      <th>Temperature (C)</th>\n",
       "      <th>Apparent Temperature ©</th>\n",
       "      <th>Humidity</th>\n",
       "      <th>Wind Speed (km/h)</th>\n",
       "      <th>Wind Bearing (degrees)</th>\n",
       "      <th>Visibility (km)</th>\n",
       "      <th>Pressure (millibars)</th>\n",
       "      <th>Daily Summary</th>\n",
       "    </tr>\n",
       "  </thead>\n",
       "  <tbody>\n",
       "    <tr>\n",
       "      <th>0</th>\n",
       "      <td>0</td>\n",
       "      <td>2012-04-01 00:00:00.000 +0200</td>\n",
       "      <td>4</td>\n",
       "      <td>0</td>\n",
       "      <td>9.444444</td>\n",
       "      <td>5.511111</td>\n",
       "      <td>0.52</td>\n",
       "      <td>35.4200</td>\n",
       "      <td>340.0</td>\n",
       "      <td>16.1000</td>\n",
       "      <td>1002.8</td>\n",
       "      <td>Partly cloudy until evening and breezy in the ...</td>\n",
       "    </tr>\n",
       "    <tr>\n",
       "      <th>1</th>\n",
       "      <td>1</td>\n",
       "      <td>2012-04-01 01:00:00.000 +0200</td>\n",
       "      <td>16</td>\n",
       "      <td>0</td>\n",
       "      <td>8.333333</td>\n",
       "      <td>5.194444</td>\n",
       "      <td>0.45</td>\n",
       "      <td>20.9300</td>\n",
       "      <td>320.0</td>\n",
       "      <td>16.1000</td>\n",
       "      <td>1004.1</td>\n",
       "      <td>Partly cloudy until evening and breezy in the ...</td>\n",
       "    </tr>\n",
       "    <tr>\n",
       "      <th>2</th>\n",
       "      <td>2</td>\n",
       "      <td>2012-04-01 02:00:00.000 +0200</td>\n",
       "      <td>3</td>\n",
       "      <td>0</td>\n",
       "      <td>6.855556</td>\n",
       "      <td>2.244444</td>\n",
       "      <td>0.54</td>\n",
       "      <td>33.2304</td>\n",
       "      <td>322.0</td>\n",
       "      <td>15.1501</td>\n",
       "      <td>1004.97</td>\n",
       "      <td>Partly cloudy until evening and breezy in the ...</td>\n",
       "    </tr>\n",
       "    <tr>\n",
       "      <th>3</th>\n",
       "      <td>3</td>\n",
       "      <td>2012-04-01 03:00:00.000 +0200</td>\n",
       "      <td>16</td>\n",
       "      <td>0</td>\n",
       "      <td>6.111111</td>\n",
       "      <td>1.888889</td>\n",
       "      <td>0.57</td>\n",
       "      <td>25.7600</td>\n",
       "      <td>310.0</td>\n",
       "      <td>16.1000</td>\n",
       "      <td>1005.9</td>\n",
       "      <td>Partly cloudy until evening and breezy in the ...</td>\n",
       "    </tr>\n",
       "    <tr>\n",
       "      <th>4</th>\n",
       "      <td>4</td>\n",
       "      <td>2012-04-01 04:00:00.000 +0200</td>\n",
       "      <td>4</td>\n",
       "      <td>0</td>\n",
       "      <td>6.111111</td>\n",
       "      <td>1.605556</td>\n",
       "      <td>0.51</td>\n",
       "      <td>28.9800</td>\n",
       "      <td>310.0</td>\n",
       "      <td>16.1000</td>\n",
       "      <td>1006.0</td>\n",
       "      <td>Partly cloudy until evening and breezy in the ...</td>\n",
       "    </tr>\n",
       "    <tr>\n",
       "      <th>...</th>\n",
       "      <td>...</td>\n",
       "      <td>...</td>\n",
       "      <td>...</td>\n",
       "      <td>...</td>\n",
       "      <td>...</td>\n",
       "      <td>...</td>\n",
       "      <td>...</td>\n",
       "      <td>...</td>\n",
       "      <td>...</td>\n",
       "      <td>...</td>\n",
       "      <td>...</td>\n",
       "      <td>...</td>\n",
       "    </tr>\n",
       "    <tr>\n",
       "      <th>35072</th>\n",
       "      <td>35072</td>\n",
       "      <td>2015-09-09 19:00:00.000 +0200</td>\n",
       "      <td>18</td>\n",
       "      <td>0</td>\n",
       "      <td>16.011111</td>\n",
       "      <td>16.011111</td>\n",
       "      <td>0.46</td>\n",
       "      <td>0.1288</td>\n",
       "      <td>340.0</td>\n",
       "      <td>16.1000</td>\n",
       "      <td>1019.23</td>\n",
       "      <td>Partly cloudy starting in the morning continui...</td>\n",
       "    </tr>\n",
       "    <tr>\n",
       "      <th>35073</th>\n",
       "      <td>35073</td>\n",
       "      <td>2015-09-09 20:00:00.000 +0200</td>\n",
       "      <td>18</td>\n",
       "      <td>0</td>\n",
       "      <td>13.061111</td>\n",
       "      <td>13.061111</td>\n",
       "      <td>0.55</td>\n",
       "      <td>6.9552</td>\n",
       "      <td>331.0</td>\n",
       "      <td>15.5526</td>\n",
       "      <td>1019.81</td>\n",
       "      <td>Partly cloudy starting in the morning continui...</td>\n",
       "    </tr>\n",
       "    <tr>\n",
       "      <th>35074</th>\n",
       "      <td>35074</td>\n",
       "      <td>2015-09-09 21:00:00.000 +0200</td>\n",
       "      <td>18</td>\n",
       "      <td>0</td>\n",
       "      <td>11.161111</td>\n",
       "      <td>11.161111</td>\n",
       "      <td>0.67</td>\n",
       "      <td>7.9212</td>\n",
       "      <td>352.0</td>\n",
       "      <td>16.1000</td>\n",
       "      <td>1020.33</td>\n",
       "      <td>Partly cloudy starting in the morning continui...</td>\n",
       "    </tr>\n",
       "    <tr>\n",
       "      <th>35075</th>\n",
       "      <td>35075</td>\n",
       "      <td>2015-09-09 22:00:00.000 +0200</td>\n",
       "      <td>6</td>\n",
       "      <td>0</td>\n",
       "      <td>10.583333</td>\n",
       "      <td>10.583333</td>\n",
       "      <td>0.69</td>\n",
       "      <td>6.4239</td>\n",
       "      <td>342.0</td>\n",
       "      <td>16.1000</td>\n",
       "      <td>1019.75</td>\n",
       "      <td>Partly cloudy starting in the morning continui...</td>\n",
       "    </tr>\n",
       "    <tr>\n",
       "      <th>35076</th>\n",
       "      <td>35076</td>\n",
       "      <td>2015-09-09 23:00:00.000 +0200</td>\n",
       "      <td>18</td>\n",
       "      <td>0</td>\n",
       "      <td>10.850000</td>\n",
       "      <td>10.850000</td>\n",
       "      <td>0.70</td>\n",
       "      <td>3.6708</td>\n",
       "      <td>10.0</td>\n",
       "      <td>15.5526</td>\n",
       "      <td>1019.55</td>\n",
       "      <td>Partly cloudy starting in the morning continui...</td>\n",
       "    </tr>\n",
       "  </tbody>\n",
       "</table>\n",
       "<p>34701 rows × 12 columns</p>\n",
       "</div>"
      ],
      "text/plain": [
       "       Unnamed: 0                 Formatted Date  Summary  Precip Type  \\\n",
       "0               0  2012-04-01 00:00:00.000 +0200        4            0   \n",
       "1               1  2012-04-01 01:00:00.000 +0200       16            0   \n",
       "2               2  2012-04-01 02:00:00.000 +0200        3            0   \n",
       "3               3  2012-04-01 03:00:00.000 +0200       16            0   \n",
       "4               4  2012-04-01 04:00:00.000 +0200        4            0   \n",
       "...           ...                            ...      ...          ...   \n",
       "35072       35072  2015-09-09 19:00:00.000 +0200       18            0   \n",
       "35073       35073  2015-09-09 20:00:00.000 +0200       18            0   \n",
       "35074       35074  2015-09-09 21:00:00.000 +0200       18            0   \n",
       "35075       35075  2015-09-09 22:00:00.000 +0200        6            0   \n",
       "35076       35076  2015-09-09 23:00:00.000 +0200       18            0   \n",
       "\n",
       "       Temperature (C)  Apparent Temperature ©  Humidity  Wind Speed (km/h)  \\\n",
       "0             9.444444                5.511111      0.52            35.4200   \n",
       "1             8.333333                5.194444      0.45            20.9300   \n",
       "2             6.855556                2.244444      0.54            33.2304   \n",
       "3             6.111111                1.888889      0.57            25.7600   \n",
       "4             6.111111                1.605556      0.51            28.9800   \n",
       "...                ...                     ...       ...                ...   \n",
       "35072        16.011111               16.011111      0.46             0.1288   \n",
       "35073        13.061111               13.061111      0.55             6.9552   \n",
       "35074        11.161111               11.161111      0.67             7.9212   \n",
       "35075        10.583333               10.583333      0.69             6.4239   \n",
       "35076        10.850000               10.850000      0.70             3.6708   \n",
       "\n",
       "       Wind Bearing (degrees)  Visibility (km) Pressure (millibars)  \\\n",
       "0                       340.0          16.1000               1002.8   \n",
       "1                       320.0          16.1000               1004.1   \n",
       "2                       322.0          15.1501              1004.97   \n",
       "3                       310.0          16.1000               1005.9   \n",
       "4                       310.0          16.1000               1006.0   \n",
       "...                       ...              ...                  ...   \n",
       "35072                   340.0          16.1000              1019.23   \n",
       "35073                   331.0          15.5526              1019.81   \n",
       "35074                   352.0          16.1000              1020.33   \n",
       "35075                   342.0          16.1000              1019.75   \n",
       "35076                    10.0          15.5526              1019.55   \n",
       "\n",
       "                                           Daily Summary  \n",
       "0      Partly cloudy until evening and breezy in the ...  \n",
       "1      Partly cloudy until evening and breezy in the ...  \n",
       "2      Partly cloudy until evening and breezy in the ...  \n",
       "3      Partly cloudy until evening and breezy in the ...  \n",
       "4      Partly cloudy until evening and breezy in the ...  \n",
       "...                                                  ...  \n",
       "35072  Partly cloudy starting in the morning continui...  \n",
       "35073  Partly cloudy starting in the morning continui...  \n",
       "35074  Partly cloudy starting in the morning continui...  \n",
       "35075  Partly cloudy starting in the morning continui...  \n",
       "35076  Partly cloudy starting in the morning continui...  \n",
       "\n",
       "[34701 rows x 12 columns]"
      ]
     },
     "execution_count": 56,
     "metadata": {},
     "output_type": "execute_result"
    }
   ],
   "source": [
    "df"
   ]
  },
  {
   "cell_type": "code",
   "execution_count": null,
   "metadata": {},
   "outputs": [],
   "source": []
  },
  {
   "cell_type": "markdown",
   "metadata": {},
   "source": [
    "## Graph visualisation and filtering unwanted Outliers"
   ]
  },
  {
   "cell_type": "code",
   "execution_count": 57,
   "metadata": {},
   "outputs": [
    {
     "data": {
      "text/plain": [
       "<matplotlib.axes._subplots.AxesSubplot at 0x7f9cb8b58810>"
      ]
     },
     "execution_count": 57,
     "metadata": {},
     "output_type": "execute_result"
    },
    {
     "data": {
      "image/png": "[encoded data removed]",
      "text/plain": [
       "<Figure size 432x288 with 1 Axes>"
      ]
     },
     "metadata": {
      "needs_background": "light"
     },
     "output_type": "display_data"
    }
   ],
   "source": [
    "import seaborn as sns\n",
    "\n",
    "\n",
    "sns.boxplot(x=df['Temperature (C)'])"
   ]
  },
  {
   "cell_type": "code",
   "execution_count": 58,
   "metadata": {},
   "outputs": [],
   "source": [
    "Q1 = df['Temperature (C)'].quantile(0.25)\n",
    "Q3 = df['Temperature (C)'].quantile(0.75)\n",
    "IQR = Q3 - Q1     \n",
    "\n",
    "filter = (df['Temperature (C)'] >= Q1 - 1.5 * IQR) & (df['Temperature (C)'] <= Q3 + 1.5 *IQR)\n",
    "df = df.loc[filter]  "
   ]
  },
  {
   "cell_type": "code",
   "execution_count": 59,
   "metadata": {},
   "outputs": [
    {
     "data": {
      "text/plain": [
       "<matplotlib.axes._subplots.AxesSubplot at 0x7f9caab22c50>"
      ]
     },
     "execution_count": 59,
     "metadata": {},
     "output_type": "execute_result"
    },
    {
     "data": {
      "image/png": "[encoded data removed]",
      "text/plain": [
       "<Figure size 432x288 with 1 Axes>"
      ]
     },
     "metadata": {
      "needs_background": "light"
     },
     "output_type": "display_data"
    }
   ],
   "source": [
    "sns.boxplot(x=df['Apparent Temperature ©'])"
   ]
  },
  {
   "cell_type": "code",
   "execution_count": 60,
   "metadata": {},
   "outputs": [],
   "source": [
    "Q1 = df['Apparent Temperature ©'].quantile(0.25)\n",
    "Q3 = df['Apparent Temperature ©'].quantile(0.75)\n",
    "IQR = Q3 - Q1     \n",
    "\n",
    "filter = (df['Apparent Temperature ©'] >= Q1 - 1.5 * IQR) & (df['Apparent Temperature ©'] <= Q3 + 1.5 *IQR)\n",
    "df = df.loc[filter]  "
   ]
  },
  {
   "cell_type": "code",
   "execution_count": 61,
   "metadata": {},
   "outputs": [
    {
     "data": {
      "text/plain": [
       "<matplotlib.axes._subplots.AxesSubplot at 0x7f9caa61d810>"
      ]
     },
     "execution_count": 61,
     "metadata": {},
     "output_type": "execute_result"
    },
    {
     "data": {
      "image/png": "[encoded data removed]",
      "text/plain": [
       "<Figure size 432x288 with 1 Axes>"
      ]
     },
     "metadata": {
      "needs_background": "light"
     },
     "output_type": "display_data"
    }
   ],
   "source": [
    "sns.boxplot(x=df['Humidity'])"
   ]
  },
  {
   "cell_type": "code",
   "execution_count": 62,
   "metadata": {},
   "outputs": [],
   "source": [
    "Q1 = df['Humidity'].quantile(0.25)\n",
    "Q3 = df['Humidity'].quantile(0.75)\n",
    "IQR = Q3 - Q1     \n",
    "\n",
    "filter = (df['Humidity'] >= Q1 - 1.5 * IQR) & (df['Humidity'] <= Q3 + 1.5 *IQR)\n",
    "df = df.loc[filter]  "
   ]
  },
  {
   "cell_type": "code",
   "execution_count": 63,
   "metadata": {},
   "outputs": [
    {
     "data": {
      "text/plain": [
       "<matplotlib.axes._subplots.AxesSubplot at 0x7f9cc1ea4490>"
      ]
     },
     "execution_count": 63,
     "metadata": {},
     "output_type": "execute_result"
    },
    {
     "data": {
      "image/png": "[encoded data removed]",
      "text/plain": [
       "<Figure size 432x288 with 1 Axes>"
      ]
     },
     "metadata": {
      "needs_background": "light"
     },
     "output_type": "display_data"
    }
   ],
   "source": [
    "sns.boxplot(x=df['Wind Speed (km/h)'])"
   ]
  },
  {
   "cell_type": "code",
   "execution_count": 64,
   "metadata": {},
   "outputs": [],
   "source": [
    "Q1 = df['Wind Speed (km/h)'].quantile(0.25)\n",
    "Q3 = df['Wind Speed (km/h)'].quantile(0.75)\n",
    "IQR = Q3 - Q1     \n",
    "\n",
    "filter = (df['Wind Speed (km/h)'] >= Q1 - 1.5 * IQR) & (df['Wind Speed (km/h)'] <= Q3 + 1.5 *IQR)\n",
    "df = df.loc[filter]  "
   ]
  },
  {
   "cell_type": "code",
   "execution_count": 65,
   "metadata": {},
   "outputs": [
    {
     "data": {
      "text/plain": [
       "<matplotlib.axes._subplots.AxesSubplot at 0x7f9cc1527950>"
      ]
     },
     "execution_count": 65,
     "metadata": {},
     "output_type": "execute_result"
    },
    {
     "data": {
      "image/png": "[encoded data removed]",
      "text/plain": [
       "<Figure size 432x288 with 1 Axes>"
      ]
     },
     "metadata": {
      "needs_background": "light"
     },
     "output_type": "display_data"
    }
   ],
   "source": [
    "sns.boxplot(x=df['Wind Bearing (degrees)'])"
   ]
  },
  {
   "cell_type": "code",
   "execution_count": 66,
   "metadata": {},
   "outputs": [],
   "source": [
    "Q1 = df['Wind Bearing (degrees)'].quantile(0.25)\n",
    "Q3 = df['Wind Bearing (degrees)'].quantile(0.75)\n",
    "IQR = Q3 - Q1     \n",
    "\n",
    "filter = (df['Wind Bearing (degrees)'] >= Q1 - 1.5 * IQR) & (df['Wind Bearing (degrees)'] <= Q3 + 1.5 *IQR)\n",
    "df = df.loc[filter]  "
   ]
  },
  {
   "cell_type": "code",
   "execution_count": 67,
   "metadata": {},
   "outputs": [
    {
     "data": {
      "text/plain": [
       "<matplotlib.axes._subplots.AxesSubplot at 0x7f9cc28d3c90>"
      ]
     },
     "execution_count": 67,
     "metadata": {},
     "output_type": "execute_result"
    },
    {
     "data": {
      "image/png": "[encoded data removed]",
      "text/plain": [
       "<Figure size 432x288 with 1 Axes>"
      ]
     },
     "metadata": {
      "needs_background": "light"
     },
     "output_type": "display_data"
    }
   ],
   "source": [
    "sns.boxplot(x=df['Visibility (km)'])"
   ]
  },
  {
   "cell_type": "code",
   "execution_count": 68,
   "metadata": {},
   "outputs": [],
   "source": [
    "Q1 = df['Visibility (km)'].quantile(0.25)\n",
    "Q3 = df['Visibility (km)'].quantile(0.75)\n",
    "IQR = Q3 - Q1     \n",
    "\n",
    "filter = (df['Visibility (km)'] >= Q1 - 1.5 * IQR) & (df['Visibility (km)'] <= Q3 + 1.5 *IQR)\n",
    "df = df.loc[filter]  "
   ]
  },
  {
   "cell_type": "code",
   "execution_count": null,
   "metadata": {},
   "outputs": [],
   "source": []
  },
  {
   "cell_type": "code",
   "execution_count": 69,
   "metadata": {},
   "outputs": [
    {
     "data": {
      "text/html": [
       "<div>\n",
       "<style scoped>\n",
       "    .dataframe tbody tr th:only-of-type {\n",
       "        vertical-align: middle;\n",
       "    }\n",
       "\n",
       "    .dataframe tbody tr th {\n",
       "        vertical-align: top;\n",
       "    }\n",
       "\n",
       "    .dataframe thead th {\n",
       "        text-align: right;\n",
       "    }\n",
       "</style>\n",
       "<table border=\"1\" class=\"dataframe\">\n",
       "  <thead>\n",
       "    <tr style=\"text-align: right;\">\n",
       "      <th></th>\n",
       "      <th>Unnamed: 0</th>\n",
       "      <th>Formatted Date</th>\n",
       "      <th>Summary</th>\n",
       "      <th>Precip Type</th>\n",
       "      <th>Temperature (C)</th>\n",
       "      <th>Apparent Temperature ©</th>\n",
       "      <th>Humidity</th>\n",
       "      <th>Wind Speed (km/h)</th>\n",
       "      <th>Wind Bearing (degrees)</th>\n",
       "      <th>Visibility (km)</th>\n",
       "      <th>Pressure (millibars)</th>\n",
       "      <th>Daily Summary</th>\n",
       "    </tr>\n",
       "  </thead>\n",
       "  <tbody>\n",
       "    <tr>\n",
       "      <th>1</th>\n",
       "      <td>1</td>\n",
       "      <td>2012-04-01 01:00:00.000 +0200</td>\n",
       "      <td>16</td>\n",
       "      <td>0</td>\n",
       "      <td>8.333333</td>\n",
       "      <td>5.194444</td>\n",
       "      <td>0.450000</td>\n",
       "      <td>20.9300</td>\n",
       "      <td>320.0</td>\n",
       "      <td>16.1000</td>\n",
       "      <td>1004.1</td>\n",
       "      <td>Partly cloudy until evening and breezy in the ...</td>\n",
       "    </tr>\n",
       "    <tr>\n",
       "      <th>3</th>\n",
       "      <td>3</td>\n",
       "      <td>2012-04-01 03:00:00.000 +0200</td>\n",
       "      <td>16</td>\n",
       "      <td>0</td>\n",
       "      <td>6.111111</td>\n",
       "      <td>1.888889</td>\n",
       "      <td>0.570000</td>\n",
       "      <td>25.7600</td>\n",
       "      <td>310.0</td>\n",
       "      <td>16.1000</td>\n",
       "      <td>1005.9</td>\n",
       "      <td>Partly cloudy until evening and breezy in the ...</td>\n",
       "    </tr>\n",
       "    <tr>\n",
       "      <th>6</th>\n",
       "      <td>6</td>\n",
       "      <td>2012-04-01 06:00:00.000 +0200</td>\n",
       "      <td>16</td>\n",
       "      <td>0</td>\n",
       "      <td>3.888889</td>\n",
       "      <td>-0.805556</td>\n",
       "      <td>0.731044</td>\n",
       "      <td>24.1500</td>\n",
       "      <td>330.0</td>\n",
       "      <td>9.9820</td>\n",
       "      <td>1008.3</td>\n",
       "      <td>Partly cloudy until evening and breezy in the ...</td>\n",
       "    </tr>\n",
       "    <tr>\n",
       "      <th>7</th>\n",
       "      <td>7</td>\n",
       "      <td>2012-04-01 07:00:00.000 +0200</td>\n",
       "      <td>16</td>\n",
       "      <td>0</td>\n",
       "      <td>2.777778</td>\n",
       "      <td>-2.038889</td>\n",
       "      <td>0.520000</td>\n",
       "      <td>22.5400</td>\n",
       "      <td>320.0</td>\n",
       "      <td>9.9820</td>\n",
       "      <td>1010.3</td>\n",
       "      <td>Partly cloudy until evening and breezy in the ...</td>\n",
       "    </tr>\n",
       "    <tr>\n",
       "      <th>11</th>\n",
       "      <td>11</td>\n",
       "      <td>2012-04-01 11:00:00.000 +0200</td>\n",
       "      <td>18</td>\n",
       "      <td>0</td>\n",
       "      <td>7.711111</td>\n",
       "      <td>3.900000</td>\n",
       "      <td>0.380000</td>\n",
       "      <td>26.3235</td>\n",
       "      <td>329.0</td>\n",
       "      <td>10.3684</td>\n",
       "      <td>1012.74</td>\n",
       "      <td>Partly cloudy until evening and breezy in the ...</td>\n",
       "    </tr>\n",
       "    <tr>\n",
       "      <th>...</th>\n",
       "      <td>...</td>\n",
       "      <td>...</td>\n",
       "      <td>...</td>\n",
       "      <td>...</td>\n",
       "      <td>...</td>\n",
       "      <td>...</td>\n",
       "      <td>...</td>\n",
       "      <td>...</td>\n",
       "      <td>...</td>\n",
       "      <td>...</td>\n",
       "      <td>...</td>\n",
       "      <td>...</td>\n",
       "    </tr>\n",
       "    <tr>\n",
       "      <th>35072</th>\n",
       "      <td>35072</td>\n",
       "      <td>2015-09-09 19:00:00.000 +0200</td>\n",
       "      <td>18</td>\n",
       "      <td>0</td>\n",
       "      <td>16.011111</td>\n",
       "      <td>16.011111</td>\n",
       "      <td>0.460000</td>\n",
       "      <td>0.1288</td>\n",
       "      <td>340.0</td>\n",
       "      <td>16.1000</td>\n",
       "      <td>1019.23</td>\n",
       "      <td>Partly cloudy starting in the morning continui...</td>\n",
       "    </tr>\n",
       "    <tr>\n",
       "      <th>35073</th>\n",
       "      <td>35073</td>\n",
       "      <td>2015-09-09 20:00:00.000 +0200</td>\n",
       "      <td>18</td>\n",
       "      <td>0</td>\n",
       "      <td>13.061111</td>\n",
       "      <td>13.061111</td>\n",
       "      <td>0.550000</td>\n",
       "      <td>6.9552</td>\n",
       "      <td>331.0</td>\n",
       "      <td>15.5526</td>\n",
       "      <td>1019.81</td>\n",
       "      <td>Partly cloudy starting in the morning continui...</td>\n",
       "    </tr>\n",
       "    <tr>\n",
       "      <th>35074</th>\n",
       "      <td>35074</td>\n",
       "      <td>2015-09-09 21:00:00.000 +0200</td>\n",
       "      <td>18</td>\n",
       "      <td>0</td>\n",
       "      <td>11.161111</td>\n",
       "      <td>11.161111</td>\n",
       "      <td>0.670000</td>\n",
       "      <td>7.9212</td>\n",
       "      <td>352.0</td>\n",
       "      <td>16.1000</td>\n",
       "      <td>1020.33</td>\n",
       "      <td>Partly cloudy starting in the morning continui...</td>\n",
       "    </tr>\n",
       "    <tr>\n",
       "      <th>35075</th>\n",
       "      <td>35075</td>\n",
       "      <td>2015-09-09 22:00:00.000 +0200</td>\n",
       "      <td>6</td>\n",
       "      <td>0</td>\n",
       "      <td>10.583333</td>\n",
       "      <td>10.583333</td>\n",
       "      <td>0.690000</td>\n",
       "      <td>6.4239</td>\n",
       "      <td>342.0</td>\n",
       "      <td>16.1000</td>\n",
       "      <td>1019.75</td>\n",
       "      <td>Partly cloudy starting in the morning continui...</td>\n",
       "    </tr>\n",
       "    <tr>\n",
       "      <th>35076</th>\n",
       "      <td>35076</td>\n",
       "      <td>2015-09-09 23:00:00.000 +0200</td>\n",
       "      <td>18</td>\n",
       "      <td>0</td>\n",
       "      <td>10.850000</td>\n",
       "      <td>10.850000</td>\n",
       "      <td>0.700000</td>\n",
       "      <td>3.6708</td>\n",
       "      <td>10.0</td>\n",
       "      <td>15.5526</td>\n",
       "      <td>1019.55</td>\n",
       "      <td>Partly cloudy starting in the morning continui...</td>\n",
       "    </tr>\n",
       "  </tbody>\n",
       "</table>\n",
       "<p>33406 rows × 12 columns</p>\n",
       "</div>"
      ],
      "text/plain": [
       "       Unnamed: 0                 Formatted Date  Summary  Precip Type  \\\n",
       "1               1  2012-04-01 01:00:00.000 +0200       16            0   \n",
       "3               3  2012-04-01 03:00:00.000 +0200       16            0   \n",
       "6               6  2012-04-01 06:00:00.000 +0200       16            0   \n",
       "7               7  2012-04-01 07:00:00.000 +0200       16            0   \n",
       "11             11  2012-04-01 11:00:00.000 +0200       18            0   \n",
       "...           ...                            ...      ...          ...   \n",
       "35072       35072  2015-09-09 19:00:00.000 +0200       18            0   \n",
       "35073       35073  2015-09-09 20:00:00.000 +0200       18            0   \n",
       "35074       35074  2015-09-09 21:00:00.000 +0200       18            0   \n",
       "35075       35075  2015-09-09 22:00:00.000 +0200        6            0   \n",
       "35076       35076  2015-09-09 23:00:00.000 +0200       18            0   \n",
       "\n",
       "       Temperature (C)  Apparent Temperature ©  Humidity  Wind Speed (km/h)  \\\n",
       "1             8.333333                5.194444  0.450000            20.9300   \n",
       "3             6.111111                1.888889  0.570000            25.7600   \n",
       "6             3.888889               -0.805556  0.731044            24.1500   \n",
       "7             2.777778               -2.038889  0.520000            22.5400   \n",
       "11            7.711111                3.900000  0.380000            26.3235   \n",
       "...                ...                     ...       ...                ...   \n",
       "35072        16.011111               16.011111  0.460000             0.1288   \n",
       "35073        13.061111               13.061111  0.550000             6.9552   \n",
       "35074        11.161111               11.161111  0.670000             7.9212   \n",
       "35075        10.583333               10.583333  0.690000             6.4239   \n",
       "35076        10.850000               10.850000  0.700000             3.6708   \n",
       "\n",
       "       Wind Bearing (degrees)  Visibility (km) Pressure (millibars)  \\\n",
       "1                       320.0          16.1000               1004.1   \n",
       "3                       310.0          16.1000               1005.9   \n",
       "6                       330.0           9.9820               1008.3   \n",
       "7                       320.0           9.9820               1010.3   \n",
       "11                      329.0          10.3684              1012.74   \n",
       "...                       ...              ...                  ...   \n",
       "35072                   340.0          16.1000              1019.23   \n",
       "35073                   331.0          15.5526              1019.81   \n",
       "35074                   352.0          16.1000              1020.33   \n",
       "35075                   342.0          16.1000              1019.75   \n",
       "35076                    10.0          15.5526              1019.55   \n",
       "\n",
       "                                           Daily Summary  \n",
       "1      Partly cloudy until evening and breezy in the ...  \n",
       "3      Partly cloudy until evening and breezy in the ...  \n",
       "6      Partly cloudy until evening and breezy in the ...  \n",
       "7      Partly cloudy until evening and breezy in the ...  \n",
       "11     Partly cloudy until evening and breezy in the ...  \n",
       "...                                                  ...  \n",
       "35072  Partly cloudy starting in the morning continui...  \n",
       "35073  Partly cloudy starting in the morning continui...  \n",
       "35074  Partly cloudy starting in the morning continui...  \n",
       "35075  Partly cloudy starting in the morning continui...  \n",
       "35076  Partly cloudy starting in the morning continui...  \n",
       "\n",
       "[33406 rows x 12 columns]"
      ]
     },
     "execution_count": 69,
     "metadata": {},
     "output_type": "execute_result"
    }
   ],
   "source": [
    "df"
   ]
  },
  {
   "cell_type": "markdown",
   "metadata": {},
   "source": [
    "## Normalization and Standardization"
   ]
  },
  {
   "cell_type": "code",
   "execution_count": 70,
   "metadata": {},
   "outputs": [
    {
     "data": {
      "text/plain": [
       "Temperature (C)            12.343751\n",
       "Apparent Temperature ©     11.363360\n",
       "Humidity                    0.733975\n",
       "Wind Speed (km/h)          10.153091\n",
       "Wind Bearing (degrees)    183.584164\n",
       "Visibility (km)            10.880969\n",
       "dtype: float64"
      ]
     },
     "execution_count": 70,
     "metadata": {},
     "output_type": "execute_result"
    }
   ],
   "source": [
    "# Calculating mean of all required columns\n",
    "df[['Temperature (C)', 'Apparent Temperature ©', 'Humidity', 'Wind Speed (km/h)', 'Wind Bearing (degrees)', 'Visibility (km)', 'Pressure (millibars)']].mean()"
   ]
  },
  {
   "cell_type": "code",
   "execution_count": 71,
   "metadata": {},
   "outputs": [
    {
     "data": {
      "text/plain": [
       "Temperature (C)              90.842669\n",
       "Apparent Temperature ©      111.891562\n",
       "Humidity                      0.040169\n",
       "Wind Speed (km/h)            34.458552\n",
       "Wind Bearing (degrees)    11607.907195\n",
       "Visibility (km)              20.251925\n",
       "dtype: float64"
      ]
     },
     "execution_count": 71,
     "metadata": {},
     "output_type": "execute_result"
    }
   ],
   "source": [
    "# Calculating variance of all required columns\n",
    "df[['Temperature (C)','Apparent Temperature ©', 'Humidity', 'Wind Speed (km/h)', 'Wind Bearing (degrees)', 'Visibility (km)', 'Pressure (millibars)']].var()"
   ]
  },
  {
   "cell_type": "code",
   "execution_count": 72,
   "metadata": {},
   "outputs": [
    {
     "data": {
      "image/png": "[encoded data removed]",
      "text/plain": [
       "<Figure size 432x288 with 1 Axes>"
      ]
     },
     "metadata": {
      "needs_background": "light"
     },
     "output_type": "display_data"
    }
   ],
   "source": [
    "pyplot.hist(df['Temperature (C)'])\n",
    "pyplot.show()"
   ]
  },
  {
   "cell_type": "code",
   "execution_count": 73,
   "metadata": {},
   "outputs": [
    {
     "data": {
      "text/html": [
       "<div>\n",
       "<style scoped>\n",
       "    .dataframe tbody tr th:only-of-type {\n",
       "        vertical-align: middle;\n",
       "    }\n",
       "\n",
       "    .dataframe tbody tr th {\n",
       "        vertical-align: top;\n",
       "    }\n",
       "\n",
       "    .dataframe thead th {\n",
       "        text-align: right;\n",
       "    }\n",
       "</style>\n",
       "<table border=\"1\" class=\"dataframe\">\n",
       "  <thead>\n",
       "    <tr style=\"text-align: right;\">\n",
       "      <th></th>\n",
       "      <th>Temperature (C)</th>\n",
       "      <th>Apparent Temperature ©</th>\n",
       "      <th>Humidity</th>\n",
       "      <th>Wind Speed (km/h)</th>\n",
       "      <th>Wind Bearing (degrees)</th>\n",
       "      <th>Visibility (km)</th>\n",
       "      <th>Pressure (millibars)</th>\n",
       "    </tr>\n",
       "  </thead>\n",
       "  <tbody>\n",
       "    <tr>\n",
       "      <th>0</th>\n",
       "      <td>0.438426</td>\n",
       "      <td>0.435537</td>\n",
       "      <td>0.258333</td>\n",
       "      <td>0.787879</td>\n",
       "      <td>0.922311</td>\n",
       "      <td>1.000</td>\n",
       "      <td>0.963276</td>\n",
       "    </tr>\n",
       "    <tr>\n",
       "      <th>1</th>\n",
       "      <td>0.397547</td>\n",
       "      <td>0.380900</td>\n",
       "      <td>0.358333</td>\n",
       "      <td>0.969697</td>\n",
       "      <td>0.902390</td>\n",
       "      <td>1.000</td>\n",
       "      <td>0.965003</td>\n",
       "    </tr>\n",
       "    <tr>\n",
       "      <th>2</th>\n",
       "      <td>0.356668</td>\n",
       "      <td>0.336364</td>\n",
       "      <td>0.492537</td>\n",
       "      <td>0.909091</td>\n",
       "      <td>0.942231</td>\n",
       "      <td>0.620</td>\n",
       "      <td>0.967306</td>\n",
       "    </tr>\n",
       "    <tr>\n",
       "      <th>3</th>\n",
       "      <td>0.336229</td>\n",
       "      <td>0.315978</td>\n",
       "      <td>0.316667</td>\n",
       "      <td>0.848485</td>\n",
       "      <td>0.922311</td>\n",
       "      <td>0.620</td>\n",
       "      <td>0.969224</td>\n",
       "    </tr>\n",
       "    <tr>\n",
       "      <th>4</th>\n",
       "      <td>0.426980</td>\n",
       "      <td>0.414141</td>\n",
       "      <td>0.200000</td>\n",
       "      <td>0.990909</td>\n",
       "      <td>0.940239</td>\n",
       "      <td>0.644</td>\n",
       "      <td>0.971565</td>\n",
       "    </tr>\n",
       "    <tr>\n",
       "      <th>...</th>\n",
       "      <td>...</td>\n",
       "      <td>...</td>\n",
       "      <td>...</td>\n",
       "      <td>...</td>\n",
       "      <td>...</td>\n",
       "      <td>...</td>\n",
       "      <td>...</td>\n",
       "    </tr>\n",
       "    <tr>\n",
       "      <th>33401</th>\n",
       "      <td>0.579663</td>\n",
       "      <td>0.614325</td>\n",
       "      <td>0.266667</td>\n",
       "      <td>0.004848</td>\n",
       "      <td>0.962151</td>\n",
       "      <td>1.000</td>\n",
       "      <td>0.977791</td>\n",
       "    </tr>\n",
       "    <tr>\n",
       "      <th>33402</th>\n",
       "      <td>0.525396</td>\n",
       "      <td>0.565565</td>\n",
       "      <td>0.341667</td>\n",
       "      <td>0.261818</td>\n",
       "      <td>0.944223</td>\n",
       "      <td>0.966</td>\n",
       "      <td>0.978348</td>\n",
       "    </tr>\n",
       "    <tr>\n",
       "      <th>33403</th>\n",
       "      <td>0.490445</td>\n",
       "      <td>0.534160</td>\n",
       "      <td>0.441667</td>\n",
       "      <td>0.298182</td>\n",
       "      <td>0.986056</td>\n",
       "      <td>1.000</td>\n",
       "      <td>0.978846</td>\n",
       "    </tr>\n",
       "    <tr>\n",
       "      <th>33404</th>\n",
       "      <td>0.479816</td>\n",
       "      <td>0.524610</td>\n",
       "      <td>0.458333</td>\n",
       "      <td>0.241818</td>\n",
       "      <td>0.966135</td>\n",
       "      <td>1.000</td>\n",
       "      <td>0.978290</td>\n",
       "    </tr>\n",
       "    <tr>\n",
       "      <th>33405</th>\n",
       "      <td>0.484722</td>\n",
       "      <td>0.529017</td>\n",
       "      <td>0.466667</td>\n",
       "      <td>0.138182</td>\n",
       "      <td>0.304781</td>\n",
       "      <td>0.966</td>\n",
       "      <td>0.978098</td>\n",
       "    </tr>\n",
       "  </tbody>\n",
       "</table>\n",
       "<p>33406 rows × 7 columns</p>\n",
       "</div>"
      ],
      "text/plain": [
       "       Temperature (C)  Apparent Temperature ©  Humidity  Wind Speed (km/h)  \\\n",
       "0             0.438426                0.435537  0.258333           0.787879   \n",
       "1             0.397547                0.380900  0.358333           0.969697   \n",
       "2             0.356668                0.336364  0.492537           0.909091   \n",
       "3             0.336229                0.315978  0.316667           0.848485   \n",
       "4             0.426980                0.414141  0.200000           0.990909   \n",
       "...                ...                     ...       ...                ...   \n",
       "33401         0.579663                0.614325  0.266667           0.004848   \n",
       "33402         0.525396                0.565565  0.341667           0.261818   \n",
       "33403         0.490445                0.534160  0.441667           0.298182   \n",
       "33404         0.479816                0.524610  0.458333           0.241818   \n",
       "33405         0.484722                0.529017  0.466667           0.138182   \n",
       "\n",
       "       Wind Bearing (degrees)  Visibility (km)  Pressure (millibars)  \n",
       "0                    0.922311            1.000              0.963276  \n",
       "1                    0.902390            1.000              0.965003  \n",
       "2                    0.942231            0.620              0.967306  \n",
       "3                    0.922311            0.620              0.969224  \n",
       "4                    0.940239            0.644              0.971565  \n",
       "...                       ...              ...                   ...  \n",
       "33401                0.962151            1.000              0.977791  \n",
       "33402                0.944223            0.966              0.978348  \n",
       "33403                0.986056            1.000              0.978846  \n",
       "33404                0.966135            1.000              0.978290  \n",
       "33405                0.304781            0.966              0.978098  \n",
       "\n",
       "[33406 rows x 7 columns]"
      ]
     },
     "execution_count": 73,
     "metadata": {},
     "output_type": "execute_result"
    }
   ],
   "source": [
    "cols = ['Temperature (C)', 'Apparent Temperature ©', 'Humidity', 'Wind Speed (km/h)', 'Wind Bearing (degrees)', 'Visibility (km)', 'Pressure (millibars)']\n",
    "\n",
    "# Create x, where x is the values of cols as floats\n",
    "x = df[cols].values.astype(float)\n",
    "\n",
    "# Create a minimum and maximum processor object\n",
    "min_max_scaler = preprocessing.MinMaxScaler()\n",
    "\n",
    "# Create an object to transform the data to fit minmax processor\n",
    "x_scaled = min_max_scaler.fit_transform(x)\n",
    "\n",
    "# Run the normalizer on the dataframe\n",
    "df = pd.DataFrame(x_scaled)\n",
    "df.columns = ['Temperature (C)', 'Apparent Temperature ©', 'Humidity', 'Wind Speed (km/h)', 'Wind Bearing (degrees)', 'Visibility (km)', 'Pressure (millibars)']\n",
    "df"
   ]
  },
  {
   "cell_type": "markdown",
   "metadata": {},
   "source": [
    "## Need for Normalization and it's effects on the Dataset\n",
    "\n",
    "    -> In the context of machine learning and data science, normalization takes the values from the database and where they are numeric columns, changes them into a common scale. \n",
    "    -> The main benefits of normalization in analytical terms are that it allows faster searching and sorting as it is better at creating indexes via smaller, logical tables. \n",
    "    -> Also, in having more tables, there is a better use of segments to control the tangible placement of data. There will be fewer nulls and redundant data after modelling any necessary columns and bias/issues with anomalies are greatly reduced by removing the differences in scale. \n",
    "    -> In summary, data normalization processes ensure that our data is structured logically and scaled proportionally where required, generally on a scale of 0 to 1. It tends to be used where you have predefined assumptions of your model. \n",
    "    -> By ensuring you have normalized data, the likelihood of success in your machine learning and data science projects vastly improves. \n",
    "    -> It is vital that organizations invest as much in ensuring the quality of their data as they do in the analytical and scientific models that are created by it. Preparation is everything in a successful data strategy."
   ]
  },
  {
   "cell_type": "code",
   "execution_count": 74,
   "metadata": {},
   "outputs": [
    {
     "data": {
      "text/plain": [
       "(array([ 156.,  615., 2970., 6314., 5904., 6343., 5958., 3410., 1323.,\n",
       "         413.]),\n",
       " array([0. , 0.1, 0.2, 0.3, 0.4, 0.5, 0.6, 0.7, 0.8, 0.9, 1. ]),\n",
       " <a list of 10 Patch objects>)"
      ]
     },
     "execution_count": 74,
     "metadata": {},
     "output_type": "execute_result"
    },
    {
     "data": {
      "image/png": "[encoded data removed]",
      "text/plain": [
       "<Figure size 432x288 with 1 Axes>"
      ]
     },
     "metadata": {
      "needs_background": "light"
     },
     "output_type": "display_data"
    }
   ],
   "source": [
    "pyplot.hist(df['Temperature (C)'])"
   ]
  },
  {
   "cell_type": "code",
   "execution_count": 75,
   "metadata": {},
   "outputs": [
    {
     "data": {
      "image/png": "[encoded data removed]",
      "text/plain": [
       "<Figure size 432x288 with 1 Axes>"
      ]
     },
     "metadata": {
      "needs_background": "light"
     },
     "output_type": "display_data"
    }
   ],
   "source": [
    "qqplot(df['Temperature (C)'], line = 's')\n",
    "pyplot.show()"
   ]
  },
  {
   "cell_type": "markdown",
   "metadata": {},
   "source": [
    "## Testing of Hypothesis:"
   ]
  },
  {
   "cell_type": "markdown",
   "metadata": {},
   "source": [
    "### 1. For Column Temperature (C)"
   ]
  },
  {
   "cell_type": "code",
   "execution_count": 76,
   "metadata": {},
   "outputs": [
    {
     "name": "stdout",
     "output_type": "stream",
     "text": [
      "Null hypothesis accepted\n",
      "Accepted hypothesis is H0:  The mean Temparature is 12 degree C (mu=12)\n",
      "z_score=-11975.4679781561\n",
      "p_value=1.0000000000\n",
      "sample_mean=0.5121998163\n",
      "sample_sd=0.1753301553\n",
      "The test is 2 tailed test\n"
     ]
    }
   ],
   "source": [
    "# Find sample mean and sample standard deviation\n",
    "number_of_values=len(df) #no of values in the column\n",
    "Sample_data=df[\"Temperature (C)\"]\n",
    "\n",
    "sample_mean=statistics.mean(Sample_data) \n",
    "sample_sd=statistics.stdev(Sample_data) \n",
    "\n",
    "#Hypothesis\n",
    "#Null Hypothesis\n",
    "# H0: The mean Temparature is 12 degree C (mu=12)\n",
    "H0=\"The mean Temparature is 12 degree C (mu=12)\"\n",
    "\n",
    "#Alternate Hypothesis\n",
    "# H1: The mean Temparature is not equal to 12 degree C (mu != 12)\n",
    "H1=\"The mean Temparature is not equal to 12 degree C (mu != 12)\"\n",
    "\n",
    "population_mean_from_hypothesis=12\n",
    "\n",
    "#determining if the test is one tailed or two tailed and alloting alpha value\n",
    "\n",
    "test=\"two_tailed_test\"\n",
    "if(test==\"two_tailed_test\"):\n",
    "    number_of_tails=2\n",
    "    alpha = 0.025\n",
    "elif(test==\"one_tailed_test\"):\n",
    "    number_of_tails=1\n",
    "    alpha =0.05\n",
    "\n",
    "# Z score\n",
    "z_score=(sample_mean-population_mean_from_hypothesis)/(sample_sd/np.sqrt(number_of_values))\n",
    "# p Value\n",
    "p_value = scipy.stats.norm.sf(z_score) \n",
    "\n",
    "if p_value > alpha:\n",
    "    print('Null hypothesis accepted')\n",
    "    print('Accepted hypothesis is H0: ',H0)\n",
    "\n",
    "else:\n",
    "    print('Null hypothesis is rejected and alternate hypothesis is accepted')\n",
    "    print('Accepted hypothesis is H1:',H1)\n",
    "\n",
    "print('z_score=%.10f' % (z_score))\n",
    "print('p_value=%.10f' % (p_value))\n",
    "print('sample_mean=%.10f' % (sample_mean))\n",
    "print('sample_sd=%.10f' % (sample_sd))\n",
    "print('The test is '+str(number_of_tails)+' tailed test')\n"
   ]
  },
  {
   "cell_type": "markdown",
   "metadata": {},
   "source": [
    "### 2. For Column Temperature (C)"
   ]
  },
  {
   "cell_type": "code",
   "execution_count": 77,
   "metadata": {},
   "outputs": [
    {
     "name": "stdout",
     "output_type": "stream",
     "text": [
      "Null hypothesis accepted\n",
      "Accepted hypothesis is H0:  The mean Temparature is greater than or equal to 14 degree C (mu>=14)\n",
      "z_score=-14060.3698369319\n",
      "p_value=1.0000000000\n",
      "sample_mean=0.5121998163\n",
      "sample_sd=0.1753301553\n",
      "The test is 1 tailed test\n"
     ]
    }
   ],
   "source": [
    "# Find sample mean and sample standard deviation\n",
    "number_of_values=len(df) #no of values in the column\n",
    "Sample_data=df[\"Temperature (C)\"]\n",
    "\n",
    "sample_mean=statistics.mean(Sample_data) \n",
    "sample_sd=statistics.stdev(Sample_data) \n",
    "\n",
    "#Hypothesis\n",
    "#Null Hypothesis\n",
    "# H0: The mean Temparature is greater than or equal to 14 degree C (mu >= 14)\n",
    "H0=\"The mean Temparature is greater than or equal to 14 degree C (mu>=14)\"\n",
    "\n",
    "#Alternate Hypothesis\n",
    "# H1: The mean Temparature is less than 14 degree C (mu < 14)\n",
    "H1=\"The mean Temparature is less than 14 degree C (mu < 14)\"\n",
    "\n",
    "population_mean_from_hypothesis=14\n",
    "\n",
    "#determining if the test is one tailed or two tailed and alloting alpha value\n",
    "\n",
    "test=\"one_tailed_test\"\n",
    "if(test==\"two_tailed_test\"):\n",
    "    number_of_tails=2\n",
    "    alpha = 0.025\n",
    "elif(test==\"one_tailed_test\"):\n",
    "    number_of_tails=1\n",
    "    alpha =0.05\n",
    "\n",
    "# Z score\n",
    "z_score=(sample_mean-population_mean_from_hypothesis)/(sample_sd/np.sqrt(number_of_values))\n",
    "# p Value\n",
    "p_value = scipy.stats.norm.sf(z_score) \n",
    "\n",
    "if p_value > alpha:\n",
    "    print('Null hypothesis accepted')\n",
    "    print('Accepted hypothesis is H0: ',H0)\n",
    "\n",
    "else:\n",
    "    print('Null hypothesis is rejected and alternate hypothesis is accepted')\n",
    "    print('Accepted hypothesis is H1:',H1)\n",
    "\n",
    "print('z_score=%.10f' % (z_score))\n",
    "print('p_value=%.10f' % (p_value))\n",
    "print('sample_mean=%.10f' % (sample_mean))\n",
    "print('sample_sd=%.10f' % (sample_sd))\n",
    "print('The test is '+str(number_of_tails)+' tailed test')\n"
   ]
  },
  {
   "cell_type": "markdown",
   "metadata": {},
   "source": [
    "### 3. For Apparent Temperature ©"
   ]
  },
  {
   "cell_type": "code",
   "execution_count": 78,
   "metadata": {},
   "outputs": [
    {
     "name": "stdout",
     "output_type": "stream",
     "text": [
      "Null hypothesis accepted\n",
      "Accepted hypothesis is H0:  The mean Apparent Temperature © is 11.5 degree © (mu=11.5)\n",
      "z_score=-11459.8370316938\n",
      "p_value=1.0000000000\n",
      "sample_mean=0.5375027416\n",
      "sample_sd=0.1748410051\n",
      "The test is 2 tailed test\n"
     ]
    }
   ],
   "source": [
    "#Find sample mean and sample standard deviation\n",
    "number_of_values=len(df) #no of values in the column\n",
    "Sample_data=df[\"Apparent Temperature ©\"]\n",
    "\n",
    "sample_mean=statistics.mean(Sample_data) \n",
    "sample_sd=statistics.stdev(Sample_data) \n",
    "\n",
    "#Hypothesis\n",
    "#Null Hypothesis\n",
    "# H0: The mean Apparent Temperature © is 11.5 degree © (mu=11.5)\n",
    "H0=\"The mean Apparent Temperature © is 11.5 degree © (mu=11.5)\"\n",
    "\n",
    "#Alternate Hypothesis\n",
    "# H1: The mean Apparent Temperature © is not equal to 11.5 degree © (mu != 11.5)\n",
    "H1=\"The mean Apparent Temperature © is not equal to 11.5 degree © (mu != 11.5)\"\n",
    "\n",
    "population_mean_from_hypothesis=11.5\n",
    "\n",
    "#determining if the test is one tailed or two tailed and alloting alpha value\n",
    "\n",
    "test=\"two_tailed_test\"\n",
    "if(test==\"two_tailed_test\"):\n",
    "    number_of_tails=2\n",
    "    alpha = 0.025\n",
    "elif(test==\"one_tailed_test\"):\n",
    "    number_of_tails=1\n",
    "    alpha =0.05\n",
    "\n",
    "# Z score\n",
    "z_score=(sample_mean-population_mean_from_hypothesis)/(sample_sd/np.sqrt(number_of_values))\n",
    "# p Value\n",
    "p_value = scipy.stats.norm.sf(z_score) \n",
    "\n",
    "if p_value > alpha:\n",
    "    print('Null hypothesis accepted')\n",
    "    print('Accepted hypothesis is H0: ',H0)\n",
    "\n",
    "else:\n",
    "    print('Null hypothesis is rejected and alternate hypothesis is accepted')\n",
    "    print('Accepted hypothesis is H1:',H1)\n",
    "    \n",
    "print('z_score=%.10f' % (z_score))\n",
    "print('p_value=%.10f' % (p_value))\n",
    "print('sample_mean=%.10f' % (sample_mean))\n",
    "print('sample_sd=%.10f' % (sample_sd))\n",
    "print('The test is '+str(number_of_tails)+' tailed test')\n"
   ]
  },
  {
   "cell_type": "markdown",
   "metadata": {},
   "source": [
    "### 4. For Humidity"
   ]
  },
  {
   "cell_type": "code",
   "execution_count": 79,
   "metadata": {},
   "outputs": [
    {
     "name": "stdout",
     "output_type": "stream",
     "text": [
      "Null hypothesis accepted\n",
      "Accepted hypothesis is H0:  The mean Humidity is equal to 0.8  (mu=11.5)\n",
      "z_score=-333.7946682029\n",
      "p_value=1.0000000000\n",
      "sample_mean=0.4949793762\n",
      "sample_sd=0.1670175267\n",
      "The test is 2 tailed test\n"
     ]
    }
   ],
   "source": [
    "#Find sample mean and sample standard deviation\n",
    "number_of_values=len(df) #no of values in the column\n",
    "Sample_data=df[\"Humidity\"]\n",
    "\n",
    "sample_mean=statistics.mean(Sample_data) \n",
    "sample_sd=statistics.stdev(Sample_data) \n",
    "\n",
    "#Hypothesis\n",
    "#Null Hypothesis\n",
    "# H0: The mean Humidity is equal to 0.8  (mu=11.5)\n",
    "H0=\"The mean Humidity is equal to 0.8  (mu=11.5)\"\n",
    "\n",
    "#Alternate Hypothesis\n",
    "# H1: The mean Humidity is not equal to 0.8  (mu=11.5)\n",
    "H1=\"The mean Humidity is not equal to 0.8  (mu=11.5)\"\n",
    "\n",
    "population_mean_from_hypothesis=0.8\n",
    "\n",
    "#determining if the test is one tailed or two tailed and alloting alpha value\n",
    "\n",
    "test=\"two_tailed_test\"\n",
    "if(test==\"two_tailed_test\"):\n",
    "    number_of_tails=2\n",
    "    alpha = 0.025\n",
    "elif(test==\"one_tailed_test\"):\n",
    "    number_of_tails=1\n",
    "    alpha =0.05\n",
    "\n",
    "# Z score\n",
    "z_score=(sample_mean-population_mean_from_hypothesis)/(sample_sd/np.sqrt(number_of_values))\n",
    "# p Value\n",
    "p_value = scipy.stats.norm.sf(z_score) \n",
    "\n",
    "if p_value > alpha:\n",
    "    print('Null hypothesis accepted')\n",
    "    print('Accepted hypothesis is H0: ',H0)\n",
    "\n",
    "else:\n",
    "    print('Null hypothesis is rejected and alternate hypothesis is accepted')\n",
    "    print('Accepted hypothesis is H1:',H1)\n",
    "    \n",
    "print('z_score=%.10f' % (z_score))\n",
    "print('p_value=%.10f' % (p_value))\n",
    "print('sample_mean=%.10f' % (sample_mean))\n",
    "print('sample_sd=%.10f' % (sample_sd))\n",
    "print('The test is '+str(number_of_tails)+' tailed test')\n"
   ]
  },
  {
   "cell_type": "code",
   "execution_count": null,
   "metadata": {},
   "outputs": [],
   "source": []
  },
  {
   "cell_type": "code",
   "execution_count": null,
   "metadata": {},
   "outputs": [],
   "source": []
  },
  {
   "cell_type": "code",
   "execution_count": null,
   "metadata": {},
   "outputs": [],
   "source": []
  },
  {
   "cell_type": "code",
   "execution_count": null,
   "metadata": {},
   "outputs": [],
   "source": []
  },
  {
   "cell_type": "code",
   "execution_count": null,
   "metadata": {},
   "outputs": [],
   "source": []
  },
  {
   "cell_type": "code",
   "execution_count": null,
   "metadata": {},
   "outputs": [],
   "source": []
  },
  {
   "cell_type": "markdown",
   "metadata": {},
   "source": [
    "# Correlation Test - Pearson Correlation\n"
   ]
  },
  {
   "cell_type": "markdown",
   "metadata": {},
   "source": [
    "### 1.Correlation test on Temperature (C) and Apparent Temperature ©"
   ]
  },
  {
   "cell_type": "code",
   "execution_count": 33,
   "metadata": {},
   "outputs": [
    {
     "data": {
      "image/png": "[encoded data removed]",
      "text/plain": [
       "<Figure size 432x288 with 1 Axes>"
      ]
     },
     "metadata": {
      "needs_background": "light"
     },
     "output_type": "display_data"
    },
    {
     "name": "stdout",
     "output_type": "stream",
     "text": [
      "stat=0.99058, p=0.000000\n",
      "dependent samples\n",
      "Temperature (C) and Wind Bearing (degrees) are positively correlated.\n"
     ]
    }
   ],
   "source": [
    "FirstSample = df['Temperature (C)']\n",
    "SecondSample = df['Apparent Temperature ©']\n",
    "\n",
    "plt.plot(FirstSample,SecondSample)\n",
    "plt.xlabel('Temperature (C)')\n",
    "plt.ylabel('Apparent Temperature ©')\n",
    "plt.show()\n",
    "\n",
    "#pearson correlation\n",
    "from scipy.stats import pearsonr\n",
    "correlation_const, p_value = pearsonr(FirstSample, SecondSample)\n",
    "\n",
    "# Conclusions on the data if they are dependent or independent using p-value\n",
    "print('correlation_const=%.5f, p_value=%5f' % (correlation_const,p_value))\n",
    "if p_value > 0.05:\n",
    "    print('independent samples')\n",
    "else:\n",
    "    print('dependent samples')\n",
    "    \n",
    "# Conclusions on correlation constant\n",
    "if(correlation_const>0.6 and p_value < 0.05):\n",
    "    print(\"Temperature (C) and Wind Bearing (degrees) are positively correlated.\")\n",
    "elif(correlation_const<-0.6 and p_value < 0.05):\n",
    "    print(\"Temperature (C) and Wind Bearing (degrees) are negatively correlated.\")\n",
    "else:\n",
    "    print(\"Temperature (C) and Wind Bearing (degrees) are not correlated.\")"
   ]
  },
  {
   "cell_type": "markdown",
   "metadata": {},
   "source": [
    "### 2.Correlation test on Temperature (C) and Humidity"
   ]
  },
  {
   "cell_type": "code",
   "execution_count": 82,
   "metadata": {},
   "outputs": [
    {
     "data": {
      "image/png": "[encoded data removed]",
      "text/plain": [
       "<Figure size 432x288 with 1 Axes>"
      ]
     },
     "metadata": {
      "needs_background": "light"
     },
     "output_type": "display_data"
    },
    {
     "name": "stdout",
     "output_type": "stream",
     "text": [
      "stat=-0.63384, p=0.000000\n",
      "dependent samples\n",
      "Temperature (C) and Wind Bearing (degrees) are negatively correlated.\n"
     ]
    }
   ],
   "source": [
    "FirstSample = df['Temperature (C)']\n",
    "SecondSample = df['Humidity']\n",
    "\n",
    "plt.plot(FirstSample,SecondSample)\n",
    "plt.xlabel('Temperature (C)')\n",
    "plt.ylabel('Humidity')\n",
    "plt.show()\n",
    "\n",
    "#pearson correlation\n",
    "from scipy.stats import pearsonr\n",
    "correlation_const, p_value = pearsonr(FirstSample, SecondSample)\n",
    "\n",
    "# Conclusions on the data if they are dependent or independent using p-value\n",
    "print('correlation_const=%.5f, p_value=%5f' % (correlation_const,p_value))\n",
    "if p_value > 0.05:\n",
    "    print('independent samples')\n",
    "else:\n",
    "    print('dependent samples')\n",
    "    \n",
    "# Conclusions on correlation constant\n",
    "if(correlation_const>0.6 and p_value < 0.05):\n",
    "    print(\"Temperature (C) and Wind Bearing (degrees) are positively correlated.\")\n",
    "elif(correlation_const<-0.6 and p_value < 0.05):\n",
    "    print(\"Temperature (C) and Wind Bearing (degrees) are negatively correlated.\")\n",
    "else:\n",
    "    print(\"Temperature (C) and Wind Bearing (degrees) are not correlated.\")"
   ]
  },
  {
   "cell_type": "markdown",
   "metadata": {},
   "source": [
    "### 3.Correlation test on Temperature (C) and Wind Speed (km/h)"
   ]
  },
  {
   "cell_type": "code",
   "execution_count": 83,
   "metadata": {},
   "outputs": [
    {
     "data": {
      "image/png": "[encoded data removed]",
      "text/plain": [
       "<Figure size 432x288 with 1 Axes>"
      ]
     },
     "metadata": {
      "needs_background": "light"
     },
     "output_type": "display_data"
    },
    {
     "name": "stdout",
     "output_type": "stream",
     "text": [
      "stat=0.02733, p=0.000001\n",
      "dependent samples\n",
      "Temperature (C) and Wind Bearing (degrees) are not correlated.\n"
     ]
    }
   ],
   "source": [
    "FirstSample = df['Temperature (C)']\n",
    "SecondSample = df['Wind Speed (km/h)']\n",
    "\n",
    "plt.plot(FirstSample,SecondSample)\n",
    "plt.xlabel('Temperature (C)')\n",
    "plt.ylabel('Wind Speed (km/h)')\n",
    "plt.show()\n",
    "\n",
    "#pearson correlation\n",
    "from scipy.stats import pearsonr\n",
    "correlation_const, p_value = pearsonr(FirstSample, SecondSample)\n",
    "\n",
    "# Conclusions on the data if they are dependent or independent using p-value\n",
    "print('correlation_const=%.5f, p_value=%5f' % (correlation_const,p_value))\n",
    "if p_value > 0.05:\n",
    "    print('independent samples')\n",
    "else:\n",
    "    print('dependent samples')\n",
    "    \n",
    "# Conclusions on correlation constant\n",
    "if(correlation_const>0.6 and p_value < 0.05):\n",
    "    print(\"Temperature (C) and Wind Bearing (degrees) are positively correlated.\")\n",
    "elif(correlation_const<-0.6 and p_value < 0.05):\n",
    "    print(\"Temperature (C) and Wind Bearing (degrees) are negatively correlated.\")\n",
    "else:\n",
    "    print(\"Temperature (C) and Wind Bearing (degrees) are not correlated.\")"
   ]
  },
  {
   "cell_type": "markdown",
   "metadata": {},
   "source": [
    "### 4.Correlation test on Temperature (C) and Wind Bearing (degrees)"
   ]
  },
  {
   "cell_type": "code",
   "execution_count": 84,
   "metadata": {},
   "outputs": [
    {
     "data": {
      "image/png": "[encoded data removed]",
      "text/plain": [
       "<Figure size 432x288 with 1 Axes>"
      ]
     },
     "metadata": {
      "needs_background": "light"
     },
     "output_type": "display_data"
    },
    {
     "name": "stdout",
     "output_type": "stream",
     "text": [
      "stat=0.03082, p=0.000000\n",
      "dependent samples\n",
      "Temperature (C) and Wind Bearing (degrees) are not correlated.\n"
     ]
    }
   ],
   "source": [
    "FirstSample = df['Temperature (C)']\n",
    "SecondSample = df['Wind Bearing (degrees)']\n",
    "\n",
    "plt.plot(FirstSample,SecondSample)\n",
    "plt.xlabel('Temperature (C)')\n",
    "plt.ylabel('Wind Bearing (degrees)')\n",
    "plt.show()\n",
    "\n",
    "#pearson correlation\n",
    "from scipy.stats import pearsonr\n",
    "correlation_const, p_value = pearsonr(FirstSample, SecondSample)\n",
    "\n",
    "# Conclusions on the data if they are dependent or independent using p-value\n",
    "print('correlation_const=%.5f, p_value=%5f' % (correlation_const,p_value))\n",
    "if p_value > 0.05:\n",
    "    print('independent samples')\n",
    "else:\n",
    "    print('dependent samples')\n",
    "    \n",
    "# Conclusions on correlation constant\n",
    "if(correlation_const>0.6 and p_value < 0.05):\n",
    "    print(\"Temperature (C) and Wind Bearing (degrees) are positively correlated.\")\n",
    "elif(correlation_const<-0.6 and p_value < 0.05):\n",
    "    print(\"Temperature (C) and Wind Bearing (degrees) are negatively correlated.\")\n",
    "else:\n",
    "    print(\"Temperature (C) and Wind Bearing (degrees) are not correlated.\")"
   ]
  },
  {
   "cell_type": "markdown",
   "metadata": {},
   "source": [
    "### 5.Correlation test on Temperature (C) and Visibility (km)\t"
   ]
  },
  {
   "cell_type": "code",
   "execution_count": 85,
   "metadata": {},
   "outputs": [
    {
     "data": {
      "image/png": "[encoded data removed]",
      "text/plain": [
       "<Figure size 432x288 with 1 Axes>"
      ]
     },
     "metadata": {
      "needs_background": "light"
     },
     "output_type": "display_data"
    },
    {
     "name": "stdout",
     "output_type": "stream",
     "text": [
      "correlation_const=0.40038, p=0.000000\n",
      "dependent samples\n",
      "Temperature (C) and Wind Bearing (degrees) are not correlated.\n"
     ]
    }
   ],
   "source": [
    "FirstSample = df['Temperature (C)']\n",
    "SecondSample = df['Visibility (km)']\n",
    "\n",
    "plt.plot(FirstSample,SecondSample)\n",
    "plt.xlabel('Temperature (C)')\n",
    "plt.ylabel('Visibility (km)')\n",
    "plt.show()\n",
    "\n",
    "#pearson correlation\n",
    "from scipy.stats import pearsonr\n",
    "correlation_const, p_value = pearsonr(FirstSample, SecondSample)\n",
    "\n",
    "# Conclusions on the data if they are dependent or independent using p-value\n",
    "print('correlation_const=%.5f, p_value=%5f' % (correlation_const,p_value))\n",
    "if p_value > 0.05:\n",
    "    print('independent samples')\n",
    "else:\n",
    "    print('dependent samples')\n",
    "    \n",
    "# Conclusions on correlation constant\n",
    "if(correlation_const>0.6 and p_value < 0.05):\n",
    "    print(\"Temperature (C) and Wind Bearing (degrees) are positively correlated.\")\n",
    "elif(correlation_const<-0.6 and p_value < 0.05):\n",
    "    print(\"Temperature (C) and Wind Bearing (degrees) are negatively correlated.\")\n",
    "else:\n",
    "    print(\"Temperature (C) and Wind Bearing (degrees) are not correlated.\")"
   ]
  },
  {
   "cell_type": "markdown",
   "metadata": {},
   "source": [
    "### 5.Correlation test on Temperature (C) and Pressure (millibars)"
   ]
  },
  {
   "cell_type": "code",
   "execution_count": 88,
   "metadata": {},
   "outputs": [
    {
     "data": {
      "image/png": "[encoded data removed]",
      "text/plain": [
       "<Figure size 432x288 with 1 Axes>"
      ]
     },
     "metadata": {
      "needs_background": "light"
     },
     "output_type": "display_data"
    },
    {
     "ename": "ValueError",
     "evalue": "array must not contain infs or NaNs",
     "output_type": "error",
     "traceback": [
      "\u001b[0;31m---------------------------------------------------------------------------\u001b[0m",
      "\u001b[0;31mValueError\u001b[0m                                Traceback (most recent call last)",
      "\u001b[0;32m<ipython-input-88-c16daf075739>\u001b[0m in \u001b[0;36m<module>\u001b[0;34m\u001b[0m\n\u001b[1;32m      9\u001b[0m \u001b[0;31m#pearson correlation\u001b[0m\u001b[0;34m\u001b[0m\u001b[0;34m\u001b[0m\u001b[0;34m\u001b[0m\u001b[0m\n\u001b[1;32m     10\u001b[0m \u001b[0;32mfrom\u001b[0m \u001b[0mscipy\u001b[0m\u001b[0;34m.\u001b[0m\u001b[0mstats\u001b[0m \u001b[0;32mimport\u001b[0m \u001b[0mpearsonr\u001b[0m\u001b[0;34m\u001b[0m\u001b[0;34m\u001b[0m\u001b[0m\n\u001b[0;32m---> 11\u001b[0;31m \u001b[0mcorrelation_const\u001b[0m\u001b[0;34m,\u001b[0m \u001b[0mp_value\u001b[0m \u001b[0;34m=\u001b[0m \u001b[0mpearsonr\u001b[0m\u001b[0;34m(\u001b[0m\u001b[0mFirstSample\u001b[0m\u001b[0;34m,\u001b[0m \u001b[0mSecondSample\u001b[0m\u001b[0;34m)\u001b[0m\u001b[0;34m\u001b[0m\u001b[0;34m\u001b[0m\u001b[0m\n\u001b[0m\u001b[1;32m     12\u001b[0m \u001b[0;34m\u001b[0m\u001b[0m\n\u001b[1;32m     13\u001b[0m \u001b[0;31m# Conclusions on the data if they are dependent or independent using p-value\u001b[0m\u001b[0;34m\u001b[0m\u001b[0;34m\u001b[0m\u001b[0;34m\u001b[0m\u001b[0m\n",
      "\u001b[0;32m/opt/anaconda3/lib/python3.7/site-packages/scipy/stats/stats.py\u001b[0m in \u001b[0;36mpearsonr\u001b[0;34m(x, y)\u001b[0m\n\u001b[1;32m   3529\u001b[0m     \u001b[0;31m# [-5e210, 5e210, 3e200, -3e200]\u001b[0m\u001b[0;34m\u001b[0m\u001b[0;34m\u001b[0m\u001b[0;34m\u001b[0m\u001b[0m\n\u001b[1;32m   3530\u001b[0m     \u001b[0mnormxm\u001b[0m \u001b[0;34m=\u001b[0m \u001b[0mlinalg\u001b[0m\u001b[0;34m.\u001b[0m\u001b[0mnorm\u001b[0m\u001b[0;34m(\u001b[0m\u001b[0mxm\u001b[0m\u001b[0;34m)\u001b[0m\u001b[0;34m\u001b[0m\u001b[0;34m\u001b[0m\u001b[0m\n\u001b[0;32m-> 3531\u001b[0;31m     \u001b[0mnormym\u001b[0m \u001b[0;34m=\u001b[0m \u001b[0mlinalg\u001b[0m\u001b[0;34m.\u001b[0m\u001b[0mnorm\u001b[0m\u001b[0;34m(\u001b[0m\u001b[0mym\u001b[0m\u001b[0;34m)\u001b[0m\u001b[0;34m\u001b[0m\u001b[0;34m\u001b[0m\u001b[0m\n\u001b[0m\u001b[1;32m   3532\u001b[0m \u001b[0;34m\u001b[0m\u001b[0m\n\u001b[1;32m   3533\u001b[0m     \u001b[0mthreshold\u001b[0m \u001b[0;34m=\u001b[0m \u001b[0;36m1e-13\u001b[0m\u001b[0;34m\u001b[0m\u001b[0;34m\u001b[0m\u001b[0m\n",
      "\u001b[0;32m/opt/anaconda3/lib/python3.7/site-packages/scipy/linalg/misc.py\u001b[0m in \u001b[0;36mnorm\u001b[0;34m(a, ord, axis, keepdims, check_finite)\u001b[0m\n\u001b[1;32m    140\u001b[0m     \u001b[0;31m# Differs from numpy only in non-finite handling and the use of blas.\u001b[0m\u001b[0;34m\u001b[0m\u001b[0;34m\u001b[0m\u001b[0;34m\u001b[0m\u001b[0m\n\u001b[1;32m    141\u001b[0m     \u001b[0;32mif\u001b[0m \u001b[0mcheck_finite\u001b[0m\u001b[0;34m:\u001b[0m\u001b[0;34m\u001b[0m\u001b[0;34m\u001b[0m\u001b[0m\n\u001b[0;32m--> 142\u001b[0;31m         \u001b[0ma\u001b[0m \u001b[0;34m=\u001b[0m \u001b[0mnp\u001b[0m\u001b[0;34m.\u001b[0m\u001b[0masarray_chkfinite\u001b[0m\u001b[0;34m(\u001b[0m\u001b[0ma\u001b[0m\u001b[0;34m)\u001b[0m\u001b[0;34m\u001b[0m\u001b[0;34m\u001b[0m\u001b[0m\n\u001b[0m\u001b[1;32m    143\u001b[0m     \u001b[0;32melse\u001b[0m\u001b[0;34m:\u001b[0m\u001b[0;34m\u001b[0m\u001b[0;34m\u001b[0m\u001b[0m\n\u001b[1;32m    144\u001b[0m         \u001b[0ma\u001b[0m \u001b[0;34m=\u001b[0m \u001b[0mnp\u001b[0m\u001b[0;34m.\u001b[0m\u001b[0masarray\u001b[0m\u001b[0;34m(\u001b[0m\u001b[0ma\u001b[0m\u001b[0;34m)\u001b[0m\u001b[0;34m\u001b[0m\u001b[0;34m\u001b[0m\u001b[0m\n",
      "\u001b[0;32m~/.local/lib/python3.7/site-packages/numpy/lib/function_base.py\u001b[0m in \u001b[0;36masarray_chkfinite\u001b[0;34m(a, dtype, order)\u001b[0m\n\u001b[1;32m    497\u001b[0m     \u001b[0;32mif\u001b[0m \u001b[0ma\u001b[0m\u001b[0;34m.\u001b[0m\u001b[0mdtype\u001b[0m\u001b[0;34m.\u001b[0m\u001b[0mchar\u001b[0m \u001b[0;32min\u001b[0m \u001b[0mtypecodes\u001b[0m\u001b[0;34m[\u001b[0m\u001b[0;34m'AllFloat'\u001b[0m\u001b[0;34m]\u001b[0m \u001b[0;32mand\u001b[0m \u001b[0;32mnot\u001b[0m \u001b[0mnp\u001b[0m\u001b[0;34m.\u001b[0m\u001b[0misfinite\u001b[0m\u001b[0;34m(\u001b[0m\u001b[0ma\u001b[0m\u001b[0;34m)\u001b[0m\u001b[0;34m.\u001b[0m\u001b[0mall\u001b[0m\u001b[0;34m(\u001b[0m\u001b[0;34m)\u001b[0m\u001b[0;34m:\u001b[0m\u001b[0;34m\u001b[0m\u001b[0;34m\u001b[0m\u001b[0m\n\u001b[1;32m    498\u001b[0m         raise ValueError(\n\u001b[0;32m--> 499\u001b[0;31m             \"array must not contain infs or NaNs\")\n\u001b[0m\u001b[1;32m    500\u001b[0m     \u001b[0;32mreturn\u001b[0m \u001b[0ma\u001b[0m\u001b[0;34m\u001b[0m\u001b[0;34m\u001b[0m\u001b[0m\n\u001b[1;32m    501\u001b[0m \u001b[0;34m\u001b[0m\u001b[0m\n",
      "\u001b[0;31mValueError\u001b[0m: array must not contain infs or NaNs"
     ]
    }
   ],
   "source": [
    "FirstSample = df['Temperature (C)']\n",
    "SecondSample = df['Pressure (millibars)']\n",
    "\n",
    "plt.plot(FirstSample,SecondSample)\n",
    "plt.xlabel('Temperature (C)')\n",
    "plt.ylabel('Pressure (millibars)')\n",
    "plt.show()\n",
    "\n",
    "#pearson correlation\n",
    "from scipy.stats import pearsonr\n",
    "correlation_const, p_value = pearsonr(FirstSample, SecondSample)\n",
    "\n",
    "# Conclusions on the data if they are dependent or independent using p-value\n",
    "print('correlation_const=%.5f, p_value=%5f' % (correlation_const,p_value))\n",
    "if p_value > 0.05:\n",
    "    print('independent samples')\n",
    "else:\n",
    "    print('dependent samples')\n",
    "    \n",
    "# Conclusions on correlation constant\n",
    "if(correlation_const>0.6 and p_value < 0.05):\n",
    "    print(\"Temperature (C) and Wind Bearing (degrees) are positively correlated.\")\n",
    "elif(correlation_const<-0.6 and p_value < 0.05):\n",
    "    print(\"Temperature (C) and Wind Bearing (degrees) are negatively correlated.\")\n",
    "else:\n",
    "    print(\"Temperature (C) and Wind Bearing (degrees) are not correlated.\")"
   ]
  },
  {
   "cell_type": "markdown",
   "metadata": {},
   "source": [
    "### 5.Correlation test on Humidity and Wind Speed (km/h)"
   ]
  },
  {
   "cell_type": "code",
   "execution_count": 89,
   "metadata": {},
   "outputs": [
    {
     "data": {
      "image/png": "[encoded data removed]",
      "text/plain": [
       "<Figure size 432x288 with 1 Axes>"
      ]
     },
     "metadata": {
      "needs_background": "light"
     },
     "output_type": "display_data"
    },
    {
     "name": "stdout",
     "output_type": "stream",
     "text": [
      "stat=-0.22020, p=0.000000\n",
      "dependent samples\n",
      "Temperature (C) and Wind Bearing (degrees) are not correlated.\n"
     ]
    }
   ],
   "source": [
    "FirstSample = df['Humidity']\n",
    "SecondSample = df['Wind Speed (km/h)']\n",
    "\n",
    "plt.plot(FirstSample,SecondSample)\n",
    "plt.xlabel('Humidity')\n",
    "plt.ylabel('Wind Speed (km/h)')\n",
    "plt.show()\n",
    "\n",
    "#pearson correlation\n",
    "from scipy.stats import pearsonr\n",
    "correlation_const, p_value = pearsonr(FirstSample, SecondSample)\n",
    "\n",
    "# Conclusions on the data if they are dependent or independent using p-value\n",
    "print('correlation_const=%.5f, p_value=%5f' % (correlation_const,p_value))\n",
    "if p_value > 0.05:\n",
    "    print('independent samples')\n",
    "else:\n",
    "    print('dependent samples')\n",
    "    \n",
    "# Conclusions on correlation constant\n",
    "if(correlation_const>0.6 and p_value < 0.05):\n",
    "    print(\"Temperature (C) and Wind Bearing (degrees) are positively correlated.\")\n",
    "elif(correlation_const<-0.6 and p_value < 0.05):\n",
    "    print(\"Temperature (C) and Wind Bearing (degrees) are negatively correlated.\")\n",
    "else:\n",
    "    print(\"Temperature (C) and Wind Bearing (degrees) are not correlated.\")"
   ]
  },
  {
   "cell_type": "code",
   "execution_count": null,
   "metadata": {},
   "outputs": [],
   "source": []
  },
  {
   "cell_type": "code",
   "execution_count": null,
   "metadata": {},
   "outputs": [],
   "source": []
  },
  {
   "cell_type": "code",
   "execution_count": null,
   "metadata": {},
   "outputs": [],
   "source": []
  },
  {
   "cell_type": "code",
   "execution_count": null,
   "metadata": {},
   "outputs": [],
   "source": []
  },
  {
   "cell_type": "code",
   "execution_count": null,
   "metadata": {},
   "outputs": [],
   "source": []
  },
  {
   "cell_type": "markdown",
   "metadata": {},
   "source": [
    "## Feature Selection:"
   ]
  },
  {
   "cell_type": "code",
   "execution_count": 127,
   "metadata": {},
   "outputs": [],
   "source": [
    "# Selecting the features that will help in prediction\n",
    "\n",
    "features = ['Summary','Precip Type','Apparent Temperature ©','Humidity','Wind Speed (km/h)','Wind Bearing (degrees)','Visibility (km)','Pressure (millibars)']\n",
    "X = df[features] \n",
    "y = df[\"Temperature (C)\"]"
   ]
  },
  {
   "cell_type": "markdown",
   "metadata": {},
   "source": [
    "## Linear Regression:"
   ]
  },
  {
   "cell_type": "code",
   "execution_count": 128,
   "metadata": {},
   "outputs": [],
   "source": [
    "# split data into training set and test set\n",
    "\n",
    "from sklearn.model_selection import train_test_split\n",
    "X_train, X_test, y_train, y_test = train_test_split(X, y, test_size = 1/3, random_state = 0)"
   ]
  },
  {
   "cell_type": "code",
   "execution_count": 129,
   "metadata": {},
   "outputs": [
    {
     "data": {
      "text/plain": [
       "LinearRegression()"
      ]
     },
     "execution_count": 129,
     "metadata": {},
     "output_type": "execute_result"
    }
   ],
   "source": [
    "# Fitting simple linear regression to training set \n",
    "\n",
    "from sklearn.linear_model import LinearRegression\n",
    "regressor = LinearRegression()\n",
    "regressor.fit(X_train, y_train)"
   ]
  },
  {
   "cell_type": "code",
   "execution_count": 130,
   "metadata": {},
   "outputs": [],
   "source": [
    "# Predicting the test set results\n",
    "\n",
    "y_pred = regressor.predict(X_test)"
   ]
  },
  {
   "cell_type": "code",
   "execution_count": 131,
   "metadata": {},
   "outputs": [
    {
     "data": {
      "text/plain": [
       "1.1109033477732861"
      ]
     },
     "execution_count": 131,
     "metadata": {},
     "output_type": "execute_result"
    }
   ],
   "source": [
    "# Finding the error in the prediction , lower the error better the accuracy\n",
    "\n",
    "from sklearn.metrics import mean_squared_error\n",
    "score = math.sqrt(mean_squared_error(y_test, y_pred))\n",
    "\n",
    "score"
   ]
  }
 ],
 "metadata": {
  "kernelspec": {
   "display_name": "Python 3",
   "language": "python",
   "name": "python3"
  },
  "language_info": {
   "codemirror_mode": {
    "name": "ipython",
    "version": 3
   },
   "file_extension": ".py",
   "mimetype": "text/x-python",
   "name": "python",
   "nbconvert_exporter": "python",
   "pygments_lexer": "ipython3",
   "version": "3.7.6"
  }
 },
 "nbformat": 4,
 "nbformat_minor": 4
}
